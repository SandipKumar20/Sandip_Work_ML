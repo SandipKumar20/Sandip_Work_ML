{
 "cells": [
  {
   "cell_type": "code",
   "execution_count": 1,
   "metadata": {},
   "outputs": [],
   "source": [
    "import matplotlib.pyplot as plt\n",
    "import numpy as np\n",
    "import pandas as pd\n",
    "from sklearn.metrics import accuracy_score,precision_score,recall_score\n",
    "from sklearn.model_selection import train_test_split\n",
    "from tensorflow import reduce_min,reduce_max,cast,float32\n",
    "from tensorflow.keras.models import Model\n",
    "from tensorflow.keras import Sequential\n",
    "from tensorflow.keras.layers import Dense\n",
    "from tensorflow.keras.losses import mae\n",
    "from tensorflow.math import less"
   ]
  },
  {
   "cell_type": "markdown",
   "metadata": {},
   "source": [
    "# An AutoEncoder to detect abnormal Electrocardiograms"
   ]
  },
  {
   "cell_type": "code",
   "execution_count": 3,
   "metadata": {},
   "outputs": [],
   "source": [
    "dataframe = pd.read_csv(\"http://storage.googleapis.com/download.tensorflow.org/data/ecg.csv\",header = None)\n",
    "raw_data = dataframe.values"
   ]
  },
  {
   "cell_type": "code",
   "execution_count": 4,
   "metadata": {},
   "outputs": [
    {
     "data": {
      "text/html": [
       "<div>\n",
       "<style scoped>\n",
       "    .dataframe tbody tr th:only-of-type {\n",
       "        vertical-align: middle;\n",
       "    }\n",
       "\n",
       "    .dataframe tbody tr th {\n",
       "        vertical-align: top;\n",
       "    }\n",
       "\n",
       "    .dataframe thead th {\n",
       "        text-align: right;\n",
       "    }\n",
       "</style>\n",
       "<table border=\"1\" class=\"dataframe\">\n",
       "  <thead>\n",
       "    <tr style=\"text-align: right;\">\n",
       "      <th></th>\n",
       "      <th>0</th>\n",
       "      <th>1</th>\n",
       "      <th>2</th>\n",
       "      <th>3</th>\n",
       "      <th>4</th>\n",
       "      <th>5</th>\n",
       "      <th>6</th>\n",
       "      <th>7</th>\n",
       "      <th>8</th>\n",
       "      <th>9</th>\n",
       "      <th>...</th>\n",
       "      <th>131</th>\n",
       "      <th>132</th>\n",
       "      <th>133</th>\n",
       "      <th>134</th>\n",
       "      <th>135</th>\n",
       "      <th>136</th>\n",
       "      <th>137</th>\n",
       "      <th>138</th>\n",
       "      <th>139</th>\n",
       "      <th>140</th>\n",
       "    </tr>\n",
       "  </thead>\n",
       "  <tbody>\n",
       "    <tr>\n",
       "      <th>0</th>\n",
       "      <td>-0.112522</td>\n",
       "      <td>-2.827204</td>\n",
       "      <td>-3.773897</td>\n",
       "      <td>-4.349751</td>\n",
       "      <td>-4.376041</td>\n",
       "      <td>-3.474986</td>\n",
       "      <td>-2.181408</td>\n",
       "      <td>-1.818287</td>\n",
       "      <td>-1.250522</td>\n",
       "      <td>-0.477492</td>\n",
       "      <td>...</td>\n",
       "      <td>0.792168</td>\n",
       "      <td>0.933541</td>\n",
       "      <td>0.796958</td>\n",
       "      <td>0.578621</td>\n",
       "      <td>0.257740</td>\n",
       "      <td>0.228077</td>\n",
       "      <td>0.123431</td>\n",
       "      <td>0.925286</td>\n",
       "      <td>0.193137</td>\n",
       "      <td>1.0</td>\n",
       "    </tr>\n",
       "    <tr>\n",
       "      <th>1</th>\n",
       "      <td>-1.100878</td>\n",
       "      <td>-3.996840</td>\n",
       "      <td>-4.285843</td>\n",
       "      <td>-4.506579</td>\n",
       "      <td>-4.022377</td>\n",
       "      <td>-3.234368</td>\n",
       "      <td>-1.566126</td>\n",
       "      <td>-0.992258</td>\n",
       "      <td>-0.754680</td>\n",
       "      <td>0.042321</td>\n",
       "      <td>...</td>\n",
       "      <td>0.538356</td>\n",
       "      <td>0.656881</td>\n",
       "      <td>0.787490</td>\n",
       "      <td>0.724046</td>\n",
       "      <td>0.555784</td>\n",
       "      <td>0.476333</td>\n",
       "      <td>0.773820</td>\n",
       "      <td>1.119621</td>\n",
       "      <td>-1.436250</td>\n",
       "      <td>1.0</td>\n",
       "    </tr>\n",
       "    <tr>\n",
       "      <th>2</th>\n",
       "      <td>-0.567088</td>\n",
       "      <td>-2.593450</td>\n",
       "      <td>-3.874230</td>\n",
       "      <td>-4.584095</td>\n",
       "      <td>-4.187449</td>\n",
       "      <td>-3.151462</td>\n",
       "      <td>-1.742940</td>\n",
       "      <td>-1.490658</td>\n",
       "      <td>-1.183580</td>\n",
       "      <td>-0.394229</td>\n",
       "      <td>...</td>\n",
       "      <td>0.886073</td>\n",
       "      <td>0.531452</td>\n",
       "      <td>0.311377</td>\n",
       "      <td>-0.021919</td>\n",
       "      <td>-0.713683</td>\n",
       "      <td>-0.532197</td>\n",
       "      <td>0.321097</td>\n",
       "      <td>0.904227</td>\n",
       "      <td>-0.421797</td>\n",
       "      <td>1.0</td>\n",
       "    </tr>\n",
       "    <tr>\n",
       "      <th>3</th>\n",
       "      <td>0.490473</td>\n",
       "      <td>-1.914407</td>\n",
       "      <td>-3.616364</td>\n",
       "      <td>-4.318823</td>\n",
       "      <td>-4.268016</td>\n",
       "      <td>-3.881110</td>\n",
       "      <td>-2.993280</td>\n",
       "      <td>-1.671131</td>\n",
       "      <td>-1.333884</td>\n",
       "      <td>-0.965629</td>\n",
       "      <td>...</td>\n",
       "      <td>0.350816</td>\n",
       "      <td>0.499111</td>\n",
       "      <td>0.600345</td>\n",
       "      <td>0.842069</td>\n",
       "      <td>0.952074</td>\n",
       "      <td>0.990133</td>\n",
       "      <td>1.086798</td>\n",
       "      <td>1.403011</td>\n",
       "      <td>-0.383564</td>\n",
       "      <td>1.0</td>\n",
       "    </tr>\n",
       "    <tr>\n",
       "      <th>4</th>\n",
       "      <td>0.800232</td>\n",
       "      <td>-0.874252</td>\n",
       "      <td>-2.384761</td>\n",
       "      <td>-3.973292</td>\n",
       "      <td>-4.338224</td>\n",
       "      <td>-3.802422</td>\n",
       "      <td>-2.534510</td>\n",
       "      <td>-1.783423</td>\n",
       "      <td>-1.594450</td>\n",
       "      <td>-0.753199</td>\n",
       "      <td>...</td>\n",
       "      <td>1.148884</td>\n",
       "      <td>0.958434</td>\n",
       "      <td>1.059025</td>\n",
       "      <td>1.371682</td>\n",
       "      <td>1.277392</td>\n",
       "      <td>0.960304</td>\n",
       "      <td>0.971020</td>\n",
       "      <td>1.614392</td>\n",
       "      <td>1.421456</td>\n",
       "      <td>1.0</td>\n",
       "    </tr>\n",
       "    <tr>\n",
       "      <th>5</th>\n",
       "      <td>-1.507674</td>\n",
       "      <td>-3.574550</td>\n",
       "      <td>-4.478011</td>\n",
       "      <td>-4.408275</td>\n",
       "      <td>-3.321242</td>\n",
       "      <td>-2.105171</td>\n",
       "      <td>-1.481048</td>\n",
       "      <td>-1.301362</td>\n",
       "      <td>-0.498240</td>\n",
       "      <td>-0.286928</td>\n",
       "      <td>...</td>\n",
       "      <td>1.089068</td>\n",
       "      <td>0.983369</td>\n",
       "      <td>1.014124</td>\n",
       "      <td>0.952629</td>\n",
       "      <td>0.749326</td>\n",
       "      <td>1.007076</td>\n",
       "      <td>1.634990</td>\n",
       "      <td>1.493366</td>\n",
       "      <td>-0.783134</td>\n",
       "      <td>1.0</td>\n",
       "    </tr>\n",
       "    <tr>\n",
       "      <th>6</th>\n",
       "      <td>-0.297161</td>\n",
       "      <td>-2.766635</td>\n",
       "      <td>-4.102185</td>\n",
       "      <td>-4.589669</td>\n",
       "      <td>-4.219357</td>\n",
       "      <td>-3.650443</td>\n",
       "      <td>-2.300518</td>\n",
       "      <td>-1.293917</td>\n",
       "      <td>-1.065658</td>\n",
       "      <td>-0.490520</td>\n",
       "      <td>...</td>\n",
       "      <td>0.581779</td>\n",
       "      <td>0.684406</td>\n",
       "      <td>0.911651</td>\n",
       "      <td>0.979483</td>\n",
       "      <td>1.053458</td>\n",
       "      <td>0.974787</td>\n",
       "      <td>1.110407</td>\n",
       "      <td>1.288165</td>\n",
       "      <td>-0.823386</td>\n",
       "      <td>1.0</td>\n",
       "    </tr>\n",
       "  </tbody>\n",
       "</table>\n",
       "<p>7 rows × 141 columns</p>\n",
       "</div>"
      ],
      "text/plain": [
       "        0         1         2         3         4         5         6    \\\n",
       "0 -0.112522 -2.827204 -3.773897 -4.349751 -4.376041 -3.474986 -2.181408   \n",
       "1 -1.100878 -3.996840 -4.285843 -4.506579 -4.022377 -3.234368 -1.566126   \n",
       "2 -0.567088 -2.593450 -3.874230 -4.584095 -4.187449 -3.151462 -1.742940   \n",
       "3  0.490473 -1.914407 -3.616364 -4.318823 -4.268016 -3.881110 -2.993280   \n",
       "4  0.800232 -0.874252 -2.384761 -3.973292 -4.338224 -3.802422 -2.534510   \n",
       "5 -1.507674 -3.574550 -4.478011 -4.408275 -3.321242 -2.105171 -1.481048   \n",
       "6 -0.297161 -2.766635 -4.102185 -4.589669 -4.219357 -3.650443 -2.300518   \n",
       "\n",
       "        7         8         9    ...       131       132       133       134  \\\n",
       "0 -1.818287 -1.250522 -0.477492  ...  0.792168  0.933541  0.796958  0.578621   \n",
       "1 -0.992258 -0.754680  0.042321  ...  0.538356  0.656881  0.787490  0.724046   \n",
       "2 -1.490658 -1.183580 -0.394229  ...  0.886073  0.531452  0.311377 -0.021919   \n",
       "3 -1.671131 -1.333884 -0.965629  ...  0.350816  0.499111  0.600345  0.842069   \n",
       "4 -1.783423 -1.594450 -0.753199  ...  1.148884  0.958434  1.059025  1.371682   \n",
       "5 -1.301362 -0.498240 -0.286928  ...  1.089068  0.983369  1.014124  0.952629   \n",
       "6 -1.293917 -1.065658 -0.490520  ...  0.581779  0.684406  0.911651  0.979483   \n",
       "\n",
       "        135       136       137       138       139  140  \n",
       "0  0.257740  0.228077  0.123431  0.925286  0.193137  1.0  \n",
       "1  0.555784  0.476333  0.773820  1.119621 -1.436250  1.0  \n",
       "2 -0.713683 -0.532197  0.321097  0.904227 -0.421797  1.0  \n",
       "3  0.952074  0.990133  1.086798  1.403011 -0.383564  1.0  \n",
       "4  1.277392  0.960304  0.971020  1.614392  1.421456  1.0  \n",
       "5  0.749326  1.007076  1.634990  1.493366 -0.783134  1.0  \n",
       "6  1.053458  0.974787  1.110407  1.288165 -0.823386  1.0  \n",
       "\n",
       "[7 rows x 141 columns]"
      ]
     },
     "execution_count": 4,
     "metadata": {},
     "output_type": "execute_result"
    }
   ],
   "source": [
    "dataframe.head(7)   # Electrocardiogram data"
   ]
  },
  {
   "cell_type": "code",
   "execution_count": 5,
   "metadata": {},
   "outputs": [
    {
     "data": {
      "text/plain": [
       "4998"
      ]
     },
     "execution_count": 5,
     "metadata": {},
     "output_type": "execute_result"
    }
   ],
   "source": [
    "len(dataframe)"
   ]
  },
  {
   "cell_type": "code",
   "execution_count": 6,
   "metadata": {},
   "outputs": [
    {
     "name": "stdout",
     "output_type": "stream",
     "text": [
      "<class 'pandas.core.frame.DataFrame'>\n",
      "RangeIndex: 4998 entries, 0 to 4997\n",
      "Columns: 141 entries, 0 to 140\n",
      "dtypes: float64(141)\n",
      "memory usage: 5.4 MB\n"
     ]
    }
   ],
   "source": [
    "dataframe.info()"
   ]
  },
  {
   "cell_type": "code",
   "execution_count": 7,
   "metadata": {},
   "outputs": [],
   "source": [
    "labels = raw_data[:,-1]  # labels -> The last column is the label either one or zero."
   ]
  },
  {
   "cell_type": "code",
   "execution_count": 8,
   "metadata": {},
   "outputs": [],
   "source": [
    "data = raw_data[:,0:-1] # Input data 0:140 columns"
   ]
  },
  {
   "cell_type": "code",
   "execution_count": 9,
   "metadata": {},
   "outputs": [],
   "source": [
    "train_data,test_data,train_labels,test_labels = train_test_split(data,labels,train_size = 0.8,random_state = 21)"
   ]
  },
  {
   "cell_type": "code",
   "execution_count": 10,
   "metadata": {},
   "outputs": [],
   "source": [
    "\"\"\" Normalizing the datapoints \"\"\"\n",
    "min_val = reduce_min(train_data)\n",
    "max_val = reduce_max(train_data)\n",
    "train_data = (train_data - min_val)/(max_val-min_val)\n",
    "test_data = (test_data-min_val)/(max_val-min_val)"
   ]
  },
  {
   "cell_type": "code",
   "execution_count": 11,
   "metadata": {},
   "outputs": [],
   "source": [
    "train_data = cast(train_data,float32)\n",
    "test_data = cast(test_data,float32)"
   ]
  },
  {
   "cell_type": "code",
   "execution_count": 12,
   "metadata": {},
   "outputs": [],
   "source": [
    "\"\"\"  Sepaarating the normal ECG's from Abnormal ECG's \"\"\"\n",
    "train_labels = train_labels.astype(bool)\n",
    "test_labels = test_labels.astype(bool)\n",
    "normal_train_data = train_data[train_labels] # normal train data corresponds to ECG's with label 1\n",
    "normal_test_data = test_data[test_labels]\n",
    "anomalous_train_data = train_data[~train_labels]\n",
    "anomalous_test_data = test_data[~test_labels]  # anomalous test data corresponds to ECG's with label 0"
   ]
  },
  {
   "cell_type": "code",
   "execution_count": 13,
   "metadata": {},
   "outputs": [
    {
     "data": {
      "text/plain": [
       "2359"
      ]
     },
     "execution_count": 13,
     "metadata": {},
     "output_type": "execute_result"
    }
   ],
   "source": [
    "len(normal_train_data)"
   ]
  },
  {
   "cell_type": "code",
   "execution_count": 14,
   "metadata": {},
   "outputs": [
    {
     "data": {
      "text/plain": [
       "Text(0.5, 1.0, 'A normal ECG')"
      ]
     },
     "execution_count": 14,
     "metadata": {},
     "output_type": "execute_result"
    },
    {
     "data": {
      "image/png": "[encoded data removed]",
      "text/plain": [
       "<Figure size 432x288 with 1 Axes>"
      ]
     },
     "metadata": {
      "needs_background": "light"
     },
     "output_type": "display_data"
    }
   ],
   "source": [
    "plt.grid()\n",
    "plt.plot(np.arange(140), normal_train_data[100],color = 'red')\n",
    "plt.title(\"A normal ECG\")"
   ]
  },
  {
   "cell_type": "code",
   "execution_count": 15,
   "metadata": {},
   "outputs": [
    {
     "data": {
      "text/plain": [
       "Text(0.5, 1.0, ' an abnormal ECG')"
      ]
     },
     "execution_count": 15,
     "metadata": {},
     "output_type": "execute_result"
    },
    {
     "data": {
      "image/png": "[encoded data removed]",
      "text/plain": [
       "<Figure size 432x288 with 1 Axes>"
      ]
     },
     "metadata": {
      "needs_background": "light"
     },
     "output_type": "display_data"
    }
   ],
   "source": [
    "\"\"\" anomalaous data points \"\"\"\n",
    "plt.grid()\n",
    "plt.plot(np.arange(140), anomalous_train_data[200],color = \"violet\")\n",
    "plt.title(\" an abnormal ECG\")"
   ]
  },
  {
   "cell_type": "code",
   "execution_count": 16,
   "metadata": {},
   "outputs": [],
   "source": [
    "\"\"\" Encoder and Decoder of S_Net are MLP's\"\"\"\n",
    "\"\"\" S_Net(the neural net,the auto encoder)is used to detect anomalous ECGs \"\"\"\n",
    "\"\"\" The Encoder maps the input input into an 8 dimensional latent space\"\"\"\n",
    "\n",
    "class S_Net(Model):\n",
    "    def __init__(self):\n",
    "        super(S_Net,self).__init__()\n",
    "        self.Encoder = Sequential([\n",
    "         Dense(32,activation = 'relu'),\n",
    "         Dense(16,activation = 'relu'),\n",
    "         Dense(8,activation = 'relu')\n",
    "        ])\n",
    "        self.Decoder = Sequential([\n",
    "        Dense(16,activation = 'relu'),\n",
    "        Dense(32,activation = 'relu'),\n",
    "        Dense(140,activation = 'sigmoid')\n",
    "        ])\n",
    "        \n",
    "    def call(self,S):\n",
    "        encoded = self.Encoder(S)\n",
    "        decoded = self.Decoder(encoded)\n",
    "        return decoded"
   ]
  },
  {
   "cell_type": "code",
   "execution_count": 17,
   "metadata": {},
   "outputs": [],
   "source": [
    "S_NET  = S_Net()"
   ]
  },
  {
   "cell_type": "code",
   "execution_count": 18,
   "metadata": {},
   "outputs": [],
   "source": [
    "S_NET.compile(optimizer= \"adam\",loss = 'mae') # mae -> mean absolute error."
   ]
  },
  {
   "cell_type": "code",
   "execution_count": 19,
   "metadata": {},
   "outputs": [
    {
     "name": "stdout",
     "output_type": "stream",
     "text": [
      "Epoch 1/30\n",
      "5/5 [==============================] - 1s 111ms/step - loss: 0.0581 - val_loss: 0.0531\n",
      "Epoch 2/30\n",
      "5/5 [==============================] - 0s 11ms/step - loss: 0.0556 - val_loss: 0.0520\n",
      "Epoch 3/30\n",
      "5/5 [==============================] - 0s 11ms/step - loss: 0.0521 - val_loss: 0.0497\n",
      "Epoch 4/30\n",
      "5/5 [==============================] - 0s 12ms/step - loss: 0.0478 - val_loss: 0.0472\n",
      "Epoch 5/30\n",
      "5/5 [==============================] - 0s 12ms/step - loss: 0.0433 - val_loss: 0.0445\n",
      "Epoch 6/30\n",
      "5/5 [==============================] - 0s 12ms/step - loss: 0.0389 - val_loss: 0.0424\n",
      "Epoch 7/30\n",
      "5/5 [==============================] - 0s 11ms/step - loss: 0.0349 - val_loss: 0.0408\n",
      "Epoch 8/30\n",
      "5/5 [==============================] - 0s 11ms/step - loss: 0.0320 - val_loss: 0.0397\n",
      "Epoch 9/30\n",
      "5/5 [==============================] - 0s 11ms/step - loss: 0.0300 - val_loss: 0.0390\n",
      "Epoch 10/30\n",
      "5/5 [==============================] - 0s 12ms/step - loss: 0.0283 - val_loss: 0.0382\n",
      "Epoch 11/30\n",
      "5/5 [==============================] - 0s 12ms/step - loss: 0.0273 - val_loss: 0.0376\n",
      "Epoch 12/30\n",
      "5/5 [==============================] - 0s 11ms/step - loss: 0.0259 - val_loss: 0.0368\n",
      "Epoch 13/30\n",
      "5/5 [==============================] - 0s 11ms/step - loss: 0.0253 - val_loss: 0.0360\n",
      "Epoch 14/30\n",
      "5/5 [==============================] - 0s 12ms/step - loss: 0.0243 - val_loss: 0.0351\n",
      "Epoch 15/30\n",
      "5/5 [==============================] - 0s 13ms/step - loss: 0.0234 - val_loss: 0.0344\n",
      "Epoch 16/30\n",
      "5/5 [==============================] - 0s 11ms/step - loss: 0.0225 - val_loss: 0.0337\n",
      "Epoch 17/30\n",
      "5/5 [==============================] - 0s 12ms/step - loss: 0.0219 - val_loss: 0.0328\n",
      "Epoch 18/30\n",
      "5/5 [==============================] - 0s 12ms/step - loss: 0.0211 - val_loss: 0.0322\n",
      "Epoch 19/30\n",
      "5/5 [==============================] - 0s 11ms/step - loss: 0.0208 - val_loss: 0.0320\n",
      "Epoch 20/30\n",
      "5/5 [==============================] - 0s 12ms/step - loss: 0.0202 - val_loss: 0.0318\n",
      "Epoch 21/30\n",
      "5/5 [==============================] - 0s 11ms/step - loss: 0.0199 - val_loss: 0.0316\n",
      "Epoch 22/30\n",
      "5/5 [==============================] - 0s 11ms/step - loss: 0.0196 - val_loss: 0.0315\n",
      "Epoch 23/30\n",
      "5/5 [==============================] - 0s 11ms/step - loss: 0.0196 - val_loss: 0.0311\n",
      "Epoch 24/30\n",
      "5/5 [==============================] - 0s 11ms/step - loss: 0.0193 - val_loss: 0.0311\n",
      "Epoch 25/30\n",
      "5/5 [==============================] - 0s 12ms/step - loss: 0.0192 - val_loss: 0.0306\n",
      "Epoch 26/30\n",
      "5/5 [==============================] - 0s 13ms/step - loss: 0.0194 - val_loss: 0.0305\n",
      "Epoch 27/30\n",
      "5/5 [==============================] - 0s 11ms/step - loss: 0.0191 - val_loss: 0.0304\n",
      "Epoch 28/30\n",
      "5/5 [==============================] - 0s 11ms/step - loss: 0.0193 - val_loss: 0.0300\n",
      "Epoch 29/30\n",
      "5/5 [==============================] - 0s 12ms/step - loss: 0.0192 - val_loss: 0.0303\n",
      "Epoch 30/30\n",
      "5/5 [==============================] - 0s 11ms/step - loss: 0.0191 - val_loss: 0.0298\n"
     ]
    }
   ],
   "source": [
    "\"\"\" Training the neural Net.\"\"\"\n",
    "hist = S_NET.fit(normal_train_data,normal_train_data,epochs = 30 ,batch_size = 512, \n",
    "                   validation_data = (test_data,test_data), shuffle = True)"
   ]
  },
  {
   "cell_type": "code",
   "execution_count": 20,
   "metadata": {},
   "outputs": [
    {
     "data": {
      "text/plain": [
       "<matplotlib.legend.Legend at 0x7f2dfb5f2d00>"
      ]
     },
     "execution_count": 20,
     "metadata": {},
     "output_type": "execute_result"
    },
    {
     "data": {
      "image/png": "[encoded data removed]",
      "text/plain": [
       "<Figure size 432x288 with 1 Axes>"
      ]
     },
     "metadata": {
      "needs_background": "light"
     },
     "output_type": "display_data"
    }
   ],
   "source": [
    "plt.plot(hist.history[\"loss\"],label = \"Training Loss\",color = \"green\")\n",
    "plt.plot(hist.history[\"val_loss\"],label = \"Validation Loss\",color = \"red\")\n",
    "plt.legend()"
   ]
  },
  {
   "cell_type": "code",
   "execution_count": 21,
   "metadata": {},
   "outputs": [],
   "source": [
    "Encoded_imgs = S_NET.Encoder(normal_test_data).numpy()\n",
    "Decoded_imgs = S_NET.Decoder(Encoded_imgs).numpy()"
   ]
  },
  {
   "cell_type": "code",
   "execution_count": 22,
   "metadata": {},
   "outputs": [
    {
     "data": {
      "image/png": "[encoded data removed]",
      "text/plain": [
       "<Figure size 432x288 with 1 Axes>"
      ]
     },
     "metadata": {
      "needs_background": "light"
     },
     "output_type": "display_data"
    }
   ],
   "source": [
    "plt.plot(normal_test_data[20],'g')\n",
    "plt.plot(Decoded_imgs[20],'r')\n",
    "plt.fill_between(np.arange(140),Decoded_imgs[20],normal_test_data[20],color = 'lightcoral')\n",
    "plt.legend(labels=[\"Input\",\"Reconstruction\",\"Error\"])\n",
    "plt.show()"
   ]
  },
  {
   "cell_type": "code",
   "execution_count": 23,
   "metadata": {},
   "outputs": [],
   "source": [
    "Encoded_imgs = S_NET.Encoder(anomalous_test_data).numpy()\n",
    "Decoded_imgs = S_NET.Decoder(Encoded_imgs).numpy()"
   ]
  },
  {
   "cell_type": "code",
   "execution_count": 24,
   "metadata": {},
   "outputs": [
    {
     "data": {
      "image/png": "[encoded data removed]",
      "text/plain": [
       "<Figure size 432x288 with 1 Axes>"
      ]
     },
     "metadata": {
      "needs_background": "light"
     },
     "output_type": "display_data"
    }
   ],
   "source": [
    "plt.plot(anomalous_test_data[10],'b')\n",
    "plt.plot(Decoded_imgs[10],'r')\n",
    "plt.fill_between(np.arange(140), Decoded_imgs[10],anomalous_test_data[10],color = 'lightcoral')\n",
    "plt.legend(labels=[\"Input\",\"Reconstruction\",\"Error\"])\n",
    "plt.show()"
   ]
  },
  {
   "cell_type": "code",
   "execution_count": 23,
   "metadata": {},
   "outputs": [],
   "source": [
    "reconstructions = S_NET.predict(normal_train_data)\n",
    "train_loss = mae(reconstructions,normal_train_data)"
   ]
  },
  {
   "cell_type": "code",
   "execution_count": 27,
   "metadata": {},
   "outputs": [],
   "source": [
    "\"\"\"If the reconstructed error exceeds the threshold value, then It is considered as abnormal\"\"\"\n",
    "threshold = np.mean(train_loss) + np.std(train_loss)"
   ]
  },
  {
   "cell_type": "code",
   "execution_count": 28,
   "metadata": {},
   "outputs": [
    {
     "name": "stdout",
     "output_type": "stream",
     "text": [
      "0.032415718\n"
     ]
    }
   ],
   "source": [
    "print(threshold)"
   ]
  },
  {
   "cell_type": "code",
   "execution_count": 28,
   "metadata": {},
   "outputs": [],
   "source": [
    "reconstructions = S_NET.predict(anomalous_test_data)\n",
    "test_loss = mae(reconstructions,anomalous_test_data)"
   ]
  },
  {
   "cell_type": "code",
   "execution_count": 34,
   "metadata": {},
   "outputs": [],
   "source": [
    "def predict(model,data,threshold):\n",
    "    reconstructions = model(data)\n",
    "    loss = mae(reconstructions,data)\n",
    "    return less(loss,threshold)\n",
    "\n",
    "def print_stats(predictions,labels):\n",
    "    print(\"Accuracy = {}\".format(accuracy_score(labels,preds)))\n",
    "    print(\"Precision = {}\".format(precision_score(labels,preds)))\n",
    "    print(\"Recall = {}\".format(recall_score(labels,preds)))"
   ]
  },
  {
   "cell_type": "code",
   "execution_count": 38,
   "metadata": {},
   "outputs": [
    {
     "name": "stdout",
     "output_type": "stream",
     "text": [
      "Accuracy = 0.944\n",
      "Precision = 0.9921875\n",
      "Recall = 0.9071428571428571\n"
     ]
    }
   ],
   "source": [
    "preds = predict(S_NET,test_data,threshold)\n",
    "print_stats(preds,test_labels)"
   ]
  }
 ],
 "metadata": {
  "kernelspec": {
   "display_name": "Python 3",
   "language": "python",
   "name": "python3"
  },
  "language_info": {
   "codemirror_mode": {
    "name": "ipython",
    "version": 3
   },
   "file_extension": ".py",
   "mimetype": "text/x-python",
   "name": "python",
   "nbconvert_exporter": "python",
   "pygments_lexer": "ipython3",
   "version": "3.8.5"
  }
 },
 "nbformat": 4,
 "nbformat_minor": 4
}
