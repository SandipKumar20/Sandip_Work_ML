{
 "cells": [
  {
   "cell_type": "code",
   "execution_count": 2,
   "metadata": {},
   "outputs": [],
   "source": [
    "import numpy as np\n",
    "from tensorflow.keras.models import Sequential\n",
    "from tensorflow.keras.layers import Dense, Activation, SimpleRNN\n",
    "from tensorflow.keras.utils import to_categorical, plot_model\n",
    "from tensorflow.keras.datasets import mnist"
   ]
  },
  {
   "cell_type": "code",
   "execution_count": 3,
   "metadata": {},
   "outputs": [],
   "source": [
    "(x_train, y_train), (x_test, y_test) = mnist.load_data()\n",
    "num_labels = len(np.unique(y_train))\n",
    "y_train = to_categorical(y_train)\n",
    "y_test = to_categorical(y_test)"
   ]
  },
  {
   "cell_type": "code",
   "execution_count": 4,
   "metadata": {},
   "outputs": [],
   "source": [
    "image_size = x_train.shape[1]\n",
    "x_train = np.reshape(x_train,[-1, image_size, image_size])\n",
    "x_test = np.reshape(x_test,[-1, image_size, image_size])\n",
    "x_train = x_train.astype('float32') / 255\n",
    "x_test = x_test.astype('float32') / 255"
   ]
  },
  {
   "cell_type": "code",
   "execution_count": 5,
   "metadata": {},
   "outputs": [],
   "source": [
    "input_shape = (image_size, image_size)\n",
    "batch_size = 128\n",
    "units = 256\n",
    "dropout = 0.2"
   ]
  },
  {
   "cell_type": "code",
   "execution_count": 6,
   "metadata": {},
   "outputs": [
    {
     "name": "stdout",
     "output_type": "stream",
     "text": [
      "Model: \"sequential\"\n",
      "_________________________________________________________________\n",
      "Layer (type)                 Output Shape              Param #   \n",
      "=================================================================\n",
      "simple_rnn (SimpleRNN)       (None, 256)               72960     \n",
      "_________________________________________________________________\n",
      "dense (Dense)                (None, 10)                2570      \n",
      "_________________________________________________________________\n",
      "activation (Activation)      (None, 10)                0         \n",
      "=================================================================\n",
      "Total params: 75,530\n",
      "Trainable params: 75,530\n",
      "Non-trainable params: 0\n",
      "_________________________________________________________________\n"
     ]
    }
   ],
   "source": [
    "S_Net = Sequential()\n",
    "S_Net.add(SimpleRNN(units=units,\n",
    "                    dropout=dropout,\n",
    "                    input_shape=input_shape))\n",
    "S_Net.add(Dense(num_labels))\n",
    "S_Net.add(Activation('softmax'))\n",
    "S_Net.summary()"
   ]
  },
  {
   "cell_type": "code",
   "execution_count": null,
   "metadata": {},
   "outputs": [
    {
     "name": "stdout",
     "output_type": "stream",
     "text": [
      "Epoch 1/20\n",
      "469/469 [==============================] - 15s 30ms/step - loss: 0.7419 - accuracy: 0.7883\n",
      "Epoch 2/20\n",
      "469/469 [==============================] - 14s 31ms/step - loss: 0.3217 - accuracy: 0.9062\n",
      "Epoch 3/20\n",
      "469/469 [==============================] - 15s 31ms/step - loss: 0.2389 - accuracy: 0.9293\n",
      "Epoch 4/20\n",
      "469/469 [==============================] - 14s 30ms/step - loss: 0.1973 - accuracy: 0.9411\n",
      "Epoch 5/20\n",
      "469/469 [==============================] - 15s 31ms/step - loss: 0.1695 - accuracy: 0.9488\n",
      "Epoch 6/20\n",
      "469/469 [==============================] - 14s 30ms/step - loss: 0.1506 - accuracy: 0.9546\n",
      "Epoch 7/20\n",
      "469/469 [==============================] - 13s 28ms/step - loss: 0.1358 - accuracy: 0.9586\n",
      "Epoch 8/20\n",
      "469/469 [==============================] - 11s 22ms/step - loss: 0.1279 - accuracy: 0.9621\n",
      "Epoch 9/20\n",
      "469/469 [==============================] - 11s 23ms/step - loss: 0.1173 - accuracy: 0.9651\n",
      "Epoch 10/20\n",
      "469/469 [==============================] - 11s 23ms/step - loss: 0.1107 - accuracy: 0.9664\n",
      "Epoch 11/20\n",
      "469/469 [==============================] - 10s 22ms/step - loss: 0.1041 - accuracy: 0.9685\n",
      "Epoch 12/20\n",
      "469/469 [==============================] - 10s 22ms/step - loss: 0.0983 - accuracy: 0.9700\n",
      "Epoch 13/20\n",
      "469/469 [==============================] - 10s 22ms/step - loss: 0.0953 - accuracy: 0.9709\n",
      "Epoch 14/20\n",
      "469/469 [==============================] - 14s 29ms/step - loss: 0.0892 - accuracy: 0.9731\n",
      "Epoch 15/20\n",
      "469/469 [==============================] - 14s 29ms/step - loss: 0.0859 - accuracy: 0.9738\n",
      "Epoch 16/20\n",
      "469/469 [==============================] - 14s 29ms/step - loss: 0.0827 - accuracy: 0.9750\n",
      "Epoch 17/20\n",
      "469/469 [==============================] - 14s 29ms/step - loss: 0.0788 - accuracy: 0.9758\n",
      "Epoch 18/20\n",
      "469/469 [==============================] - 14s 29ms/step - loss: 0.0781 - accuracy: 0.9759\n",
      "Epoch 19/20\n",
      "469/469 [==============================] - 14s 29ms/step - loss: 0.0735 - accuracy: 0.9778\n",
      "Epoch 20/20\n",
      "362/469 [======================>.......] - ETA: 3s - loss: 0.0735 - accuracy: 0.9772"
     ]
    }
   ],
   "source": [
    "S_Net.compile(loss='categorical_crossentropy',\n",
    "              optimizer='sgd',\n",
    "              metrics=['accuracy'])\n",
    "S_Net.fit(x_train, y_train, epochs=20, batch_size=batch_size)\n"
   ]
  },
  {
   "cell_type": "code",
   "execution_count": null,
   "metadata": {},
   "outputs": [],
   "source": [
    "model.evaluate(x_test,\n",
    "                        y_test,\n",
    "                        batch_size=batch_size,\n",
    "                        verbose=0)\n",
    "print(\"\\nTest accuracy: %.1f%%\" % (100.0 * acc))"
   ]
  }
 ],
 "metadata": {
  "kernelspec": {
   "display_name": "Python 3",
   "language": "python",
   "name": "python3"
  },
  "language_info": {
   "codemirror_mode": {
    "name": "ipython",
    "version": 3
   },
   "file_extension": ".py",
   "mimetype": "text/x-python",
   "name": "python",
   "nbconvert_exporter": "python",
   "pygments_lexer": "ipython3",
   "version": "3.8.5"
  }
 },
 "nbformat": 4,
 "nbformat_minor": 4
}
