{
 "cells": [
  {
   "cell_type": "code",
   "execution_count": 1,
   "metadata": {},
   "outputs": [],
   "source": [
    "import numpy as np\n",
    "from numpy import ndarray\n",
    "from typing import Dict,Tuple"
   ]
  },
  {
   "cell_type": "code",
   "execution_count": 2,
   "metadata": {},
   "outputs": [],
   "source": [
    "def tanh(W:ndarray)->ndarray:\n",
    "    return np.tanh(W)"
   ]
  },
  {
   "cell_type": "code",
   "execution_count": 3,
   "metadata": {},
   "outputs": [],
   "source": [
    "def tanh_der(S:ndarray)->ndarray:\n",
    "    return (1-np.power(tanh(S),2))"
   ]
  },
  {
   "cell_type": "code",
   "execution_count": 4,
   "metadata": {},
   "outputs": [],
   "source": [
    "def e(H:ndarray)->ndarray:\n",
    "    return np.exp(H)"
   ]
  },
  {
   "cell_type": "code",
   "execution_count": 5,
   "metadata": {},
   "outputs": [],
   "source": [
    "def sigmoid(n:ndarray)->ndarray:\n",
    "    return (1/(1+e(-n)))"
   ]
  },
  {
   "cell_type": "code",
   "execution_count": 6,
   "metadata": {},
   "outputs": [],
   "source": [
    "def sigmoid_der(h:ndarray)->ndarray:\n",
    "    return sigmoid(h)*(1-sigmoid(h))"
   ]
  },
  {
   "cell_type": "code",
   "execution_count": 7,
   "metadata": {},
   "outputs": [],
   "source": [
    "def Quadratic_Cost_regression_2d(y_pred:ndarray,y_obs:ndarray)->float:\n",
    "    return np.mean(np.power(y_pred-y_obs,2))"
   ]
  },
  {
   "cell_type": "code",
   "execution_count": 9,
   "metadata": {},
   "outputs": [],
   "source": [
    "def Quadratic_Cost_naive_2d(y_pred:ndarray,y_obs:ndarray)->float:\n",
    "    z = 0\n",
    "    for s in range(y_pred.shape[0]):\n",
    "        for w in range(y_obs.shape[1]): # The naiver version designed for creating representations by pre multiplying with \n",
    "            z+= (y_pred[s,w]-y_obs[s,w])**2  # a weight matrix. no of columns in the representations corresponds to the no\n",
    "                                                 # of datapoints\n",
    "    return z/(y_obs.shape[1])    \n",
    "                                "
   ]
  },
  {
   "cell_type": "code",
   "execution_count": 20,
   "metadata": {},
   "outputs": [],
   "source": [
    "def L(S:ndarray,w1:ndarray,w2:ndarray,w3:ndarray,b1:ndarray,b2:ndarray,b3:ndarray,y:ndarray)->Tuple[Dict[str,ndarray],float]:\n",
    "    g1 = np.dot(w1,S)\n",
    "    g2 = g1 + b1\n",
    "    g3 = tanh(g2)\n",
    "    g4 = np.dot(w2,g3)\n",
    "    g5 = g4 + b2\n",
    "    g6 = sigmoid(g5)\n",
    "    g7 = np.dot(w3,g6)\n",
    "    g8 = g7 + b3\n",
    "    g9 = Quadratic_Cost_naive_2d(g8,y)\n",
    "    \n",
    "    Data:Dict[str,ndarray] = {'S':S,'w1':w1,'w2':w2,'w3':w3,'b1':b1,'b2':b2,'b3':b3,'y':y,'g1':g1,'g2':g2,'g3':g3,'g4':g4,\n",
    "                             'g5':g5,'g6':g6,'g7':g7,'g8':g8}\n",
    "        \n",
    "    \n",
    "    return Data,g9\n",
    "        \n",
    "                             "
   ]
  },
  {
   "cell_type": "code",
   "execution_count": 18,
   "metadata": {},
   "outputs": [],
   "source": [
    "S = np.random.randn(2,2)\n",
    "w1 = np.random.randn(3,2)\n",
    "b1 = np.random.randn(3,1)\n",
    "w2 = np.random.randn(4,3)\n",
    "b2 = np.random.randn(4,1)\n",
    "w3 = np.random.randn(1,4)\n",
    "b3 = np.random.randn(1,1)\n",
    "y = np.random.randn(1,2)"
   ]
  },
  {
   "cell_type": "code",
   "execution_count": 21,
   "metadata": {},
   "outputs": [
    {
     "data": {
      "text/plain": [
       "({'S': array([[-0.68424688,  0.1226127 ],\n",
       "         [ 0.85043664,  0.46881203]]), 'w1': array([[ 1.14205375, -0.17839548],\n",
       "         [ 0.9174844 , -0.14132818],\n",
       "         [-1.10637701,  0.0749737 ]]), 'w2': array([[ 1.35164888, -0.52904082, -1.10840109],\n",
       "         [-2.02972089,  0.94565733,  1.16814785],\n",
       "         [ 0.89546794,  2.15418749,  2.41812263],\n",
       "         [ 0.45734434, -0.4099463 ,  0.63345622]]), 'w3': array([[-1.1047429 , -0.39768368, -0.17999112, -1.16220417]]), 'b1': array([[ 0.78941267],\n",
       "         [ 0.76236111],\n",
       "         [-0.05389374]]), 'b2': array([[ 0.11596932],\n",
       "         [-0.62191183],\n",
       "         [-0.18579458],\n",
       "         [ 0.13295161]]), 'b3': array([[-0.50117255]]), 'y': array([[-0.56611036,  0.36550861]]), 'g1': array([[-0.93316077,  0.05639635],\n",
       "         [-0.7479765 ,  0.04623889],\n",
       "         [ 0.8207954 , -0.10050731]]), 'g2': array([[-0.1437481 ,  0.84580902],\n",
       "         [ 0.01438461,  0.80860001],\n",
       "         [ 0.76690166, -0.15440105]]), 'g3': array([[-0.1427661 ,  0.68887366],\n",
       "         [ 0.01438362,  0.66881723],\n",
       "         [ 0.64512421, -0.15318568]]), 'g4': array([[-0.91563554,  0.74707487],\n",
       "         [ 1.05697777, -0.94469286],\n",
       "         [ 1.463132  ,  1.68720022],\n",
       "         [ 0.33746816, -0.0561631 ]]), 'g5': array([[-0.79966622,  0.86304419],\n",
       "         [ 0.43506595, -1.56660468],\n",
       "         [ 1.27733742,  1.50140564],\n",
       "         [ 0.47041977,  0.07678851]]), 'g6': array([[0.31009692, 0.70329628],\n",
       "         [0.60708272, 0.17270096],\n",
       "         [0.7819962 , 0.81778403],\n",
       "         [0.6154831 , 0.5191877 ]]), 'g7': array([[-1.44007367, -1.5962379 ]]), 'g8': array([[-1.94124622, -2.09741045]])},\n",
       " 3.978484447659465)"
      ]
     },
     "execution_count": 21,
     "metadata": {},
     "output_type": "execute_result"
    }
   ],
   "source": [
    "L(S,w1,w2,w3,b1,b2,b3,y)"
   ]
  },
  {
   "cell_type": "code",
   "execution_count": 57,
   "metadata": {},
   "outputs": [],
   "source": [
    "def grads(data:Dict[str,ndarray])->Dict[str,ndarray]:\n",
    "    g8 = data['g8']\n",
    "    y = data['y']\n",
    "    g6 = data['g6']\n",
    "    g5 = data['g5']\n",
    "    g3 = data['g3']\n",
    "    g2 = data['g2']\n",
    "    S = data['S']\n",
    "    b1 = data['b1']\n",
    "    b2 = data['b2']\n",
    "    b3 = data['b3']\n",
    "    w1 = data['w1']\n",
    "    w2 = data['w2']\n",
    "    w3 = data['w3']\n",
    "    \n",
    "    grad_g8 = 2*(g8-y)/(y.shape[1])\n",
    "    grad_w3 = np.dot(grad_g8,g6.transpose())\n",
    "    grad_b3 = (np.dot(grad_g8,np.repeat([1],S.shape[1]))).reshape(b3.shape[0],b3.shape[1])\n",
    "    grad_g5 = (np.dot(w3.transpose(),grad_g8))*sigmoid_der(g5)\n",
    "    grad_w2 = np.dot(grad_g5,g3.transpose())\n",
    "    grad_b2 = (np.dot(grad_g5,np.repeat([1],S.shape[1]))).reshape(b2.shape[0],b2.shape[1])\n",
    "    grad_g2 = (np.dot(w2.transpose(),grad_g5))*tanh_der(g2)\n",
    "    grad_w1 = np.dot(grad_g2,S.transpose())\n",
    "    grad_b1 = (np.dot(grad_g2,np.repeat([1],S.shape[1]))).reshape(b1.shape[0],b1.shape[1])\n",
    "    \n",
    "    grad: Dict[str,ndarray] = {'w3':grad_w3,'w2':grad_w2,'w1':grad_w1,'b1':grad_b1,'b2':grad_b2,'b3':grad_b3,\n",
    "                              'grad_g8':grad_g8,'grad_g5':grad_g5,'grad_g2':grad_g2}\n",
    "        \n",
    "    return grad"
   ]
  },
  {
   "cell_type": "code",
   "execution_count": 58,
   "metadata": {},
   "outputs": [
    {
     "data": {
      "text/plain": [
       "{'w3': array([[-2.15858721, -1.2601697 , -3.08948689, -2.12509017]]),\n",
       " 'w2': array([[0.34472206, 0.38440933, 0.12269544],\n",
       "        [0.07777838, 0.09547129, 0.06271722],\n",
       "        [0.03948163, 0.04478774, 0.01710213],\n",
       "        [0.4382357 , 0.48334361, 0.13454856]]),\n",
       " 'w1': array([[-0.20225301,  0.53513869],\n",
       "        [ 0.05553329, -0.17842761],\n",
       "        [-0.03589336,  0.1334987 ]]),\n",
       " 'b1': array([[ 0.83423313],\n",
       "        [-0.28883895],\n",
       "        [ 0.22118634]]),\n",
       " 'b2': array([[0.89277703],\n",
       "        [0.27038755],\n",
       "        [0.10825356],\n",
       "        [1.09278301]]),\n",
       " 'b3': array([[-3.83805491]]),\n",
       " 'grad_g8': array([[-1.37513586, -2.46291905]]),\n",
       " 'grad_g5': array([[0.32500674, 0.5677703 ],\n",
       "        [0.13044648, 0.13994107],\n",
       "        [0.04219543, 0.06605813],\n",
       "        [0.37823316, 0.71454985]]),\n",
       " 'grad_g2': array([[ 0.3774394 ,  0.45679373],\n",
       "        [-0.11271925, -0.17611969],\n",
       "        [ 0.07809738,  0.14308896]])}"
      ]
     },
     "execution_count": 58,
     "metadata": {},
     "output_type": "execute_result"
    }
   ],
   "source": [
    "grads(L(S,w1,w2,w3,b1,b2,b3,y)[0])"
   ]
  },
  {
   "cell_type": "code",
   "execution_count": 60,
   "metadata": {},
   "outputs": [],
   "source": [
    "grad = grads(L(S,w1,w2,w3,b1,b2,b3,y)[0]) #Storing the values of the gradient values of the objective function\n",
    "                                                      # wrt various tensor variables."
   ]
  },
  {
   "cell_type": "code",
   "execution_count": 29,
   "metadata": {},
   "outputs": [],
   "source": [
    "w1_11 = w1.copy()"
   ]
  },
  {
   "cell_type": "code",
   "execution_count": 30,
   "metadata": {},
   "outputs": [],
   "source": [
    " w1_11[0,0] = w1_11[0,0] + .00001"
   ]
  },
  {
   "cell_type": "code",
   "execution_count": 31,
   "metadata": {},
   "outputs": [
    {
     "data": {
      "text/plain": [
       "-0.2022524668632286"
      ]
     },
     "execution_count": 31,
     "metadata": {},
     "output_type": "execute_result"
    }
   ],
   "source": [
    "(L(S,w1_11,w2,w3,b1,b2,b3,y)[1] - L(S,w1,w2,w3,b1,b2,b3,y)[1])/(.00001) # approximating the (1,1) th component of the gradient\n",
    "                              # of the objective function wrt w1."
   ]
  },
  {
   "cell_type": "code",
   "execution_count": 44,
   "metadata": {},
   "outputs": [
    {
     "data": {
      "text/plain": [
       "-0.20225301327891795"
      ]
     },
     "execution_count": 44,
     "metadata": {},
     "output_type": "execute_result"
    }
   ],
   "source": [
    "grad['w1'][0,0]   # the computed partial derivative value. compare the values."
   ]
  },
  {
   "cell_type": "code",
   "execution_count": 37,
   "metadata": {},
   "outputs": [],
   "source": [
    "w1_12 = w1.copy()"
   ]
  },
  {
   "cell_type": "code",
   "execution_count": 38,
   "metadata": {},
   "outputs": [],
   "source": [
    "w1_12[0,1] = w1_12[0,1] + .00001"
   ]
  },
  {
   "cell_type": "code",
   "execution_count": 39,
   "metadata": {},
   "outputs": [
    {
     "data": {
      "text/plain": [
       "0.5351389250396466"
      ]
     },
     "execution_count": 39,
     "metadata": {},
     "output_type": "execute_result"
    }
   ],
   "source": [
    "(L(S,w1_12,w2,w3,b1,b2,b3,y)[1]-L(S,w1,w2,w3,b1,b2,b3,y)[1])/(.00001) # approximating the partial derivative of the cost \n",
    "                                         # function wrt (1,2) the component of w1."
   ]
  },
  {
   "cell_type": "code",
   "execution_count": 45,
   "metadata": {},
   "outputs": [
    {
     "data": {
      "text/plain": [
       "0.5351386886662324"
      ]
     },
     "execution_count": 45,
     "metadata": {},
     "output_type": "execute_result"
    }
   ],
   "source": [
    "grad['w1'][0,1]  # the corresponding value, computed by the grads function."
   ]
  },
  {
   "cell_type": "code",
   "execution_count": 40,
   "metadata": {},
   "outputs": [],
   "source": [
    "b1_11 = b1.copy()"
   ]
  },
  {
   "cell_type": "code",
   "execution_count": 41,
   "metadata": {},
   "outputs": [],
   "source": [
    "b1_11[0,0] = b1_11[0,0] + .00001"
   ]
  },
  {
   "cell_type": "code",
   "execution_count": 42,
   "metadata": {},
   "outputs": [
    {
     "data": {
      "text/plain": [
       "0.8342313023490532"
      ]
     },
     "execution_count": 42,
     "metadata": {},
     "output_type": "execute_result"
    }
   ],
   "source": [
    "(L(S,w1,w2,w3,b1_11,b2,b3,y)[1]-L(S,w1,w2,w3,b1,b2,b3,y)[1])/(.00001) # the approximate value of the first component of the\n",
    "                                  # grad of the objective function wrt b1."
   ]
  },
  {
   "cell_type": "code",
   "execution_count": 46,
   "metadata": {},
   "outputs": [
    {
     "data": {
      "text/plain": [
       "0.8342331267437736"
      ]
     },
     "execution_count": 46,
     "metadata": {},
     "output_type": "execute_result"
    }
   ],
   "source": [
    "grad['b1'][0,0]"
   ]
  },
  {
   "cell_type": "code",
   "execution_count": 47,
   "metadata": {},
   "outputs": [],
   "source": [
    "w2_12 = w2.copy()"
   ]
  },
  {
   "cell_type": "code",
   "execution_count": 48,
   "metadata": {},
   "outputs": [],
   "source": [
    "w2_12[0,1] = w2_12[0,1] + .00001"
   ]
  },
  {
   "cell_type": "code",
   "execution_count": 49,
   "metadata": {},
   "outputs": [
    {
     "data": {
      "text/plain": [
       "0.38440893344038324"
      ]
     },
     "execution_count": 49,
     "metadata": {},
     "output_type": "execute_result"
    }
   ],
   "source": [
    "(L(S,w1,w2_12,w3,b1,b2,b3,y)[1] - L(S,w1,w2,w3,b1,b2,b3,y)[1])/(.00001)"
   ]
  },
  {
   "cell_type": "code",
   "execution_count": 50,
   "metadata": {},
   "outputs": [
    {
     "data": {
      "text/plain": [
       "0.3844093307700902"
      ]
     },
     "execution_count": 50,
     "metadata": {},
     "output_type": "execute_result"
    }
   ],
   "source": [
    "grad['w2'][0,1]"
   ]
  },
  {
   "cell_type": "code",
   "execution_count": 52,
   "metadata": {},
   "outputs": [],
   "source": [
    "b2_21 = b2.copy()"
   ]
  },
  {
   "cell_type": "code",
   "execution_count": 53,
   "metadata": {},
   "outputs": [],
   "source": [
    "b2_21[1,0] = b2_21[1,0] + .00001"
   ]
  },
  {
   "cell_type": "code",
   "execution_count": 55,
   "metadata": {},
   "outputs": [
    {
     "data": {
      "text/plain": [
       "0.2703879304899459"
      ]
     },
     "execution_count": 55,
     "metadata": {},
     "output_type": "execute_result"
    }
   ],
   "source": [
    "(L(S,w1,w2,w3,b1,b2_21,b3,y)[1]-L(S,w1,w2,w3,b1,b2,b3,y)[1])/(.00001)"
   ]
  },
  {
   "cell_type": "code",
   "execution_count": 61,
   "metadata": {},
   "outputs": [
    {
     "data": {
      "text/plain": [
       "0.270387551073182"
      ]
     },
     "execution_count": 61,
     "metadata": {},
     "output_type": "execute_result"
    }
   ],
   "source": [
    "grad['b2'][1,0]"
   ]
  },
  {
   "cell_type": "code",
   "execution_count": 62,
   "metadata": {},
   "outputs": [],
   "source": [
    "w3_11 = w3.copy()"
   ]
  },
  {
   "cell_type": "code",
   "execution_count": 63,
   "metadata": {},
   "outputs": [],
   "source": [
    "w3_11[0,0] = w3_11[0,0] - .00001"
   ]
  },
  {
   "cell_type": "code",
   "execution_count": 64,
   "metadata": {},
   "outputs": [
    {
     "data": {
      "text/plain": [
       "-2.158590163592322"
      ]
     },
     "execution_count": 64,
     "metadata": {},
     "output_type": "execute_result"
    }
   ],
   "source": [
    "(L(S,w1,w2,w3_11,b1,b2,b3,y)[1] - L(S,w1,w2,w3,b1,b2,b3,y)[1])/(-.00001)"
   ]
  },
  {
   "cell_type": "code",
   "execution_count": 65,
   "metadata": {},
   "outputs": [
    {
     "data": {
      "text/plain": [
       "-2.158587209689129"
      ]
     },
     "execution_count": 65,
     "metadata": {},
     "output_type": "execute_result"
    }
   ],
   "source": [
    "grad['w3'][0,0]"
   ]
  },
  {
   "cell_type": "code",
   "execution_count": 66,
   "metadata": {},
   "outputs": [],
   "source": [
    "b3_11 = b3.copy()"
   ]
  },
  {
   "cell_type": "code",
   "execution_count": 68,
   "metadata": {},
   "outputs": [],
   "source": [
    "b3_11[0,0] = b3_11[0,0] + .00001"
   ]
  },
  {
   "cell_type": "code",
   "execution_count": 70,
   "metadata": {},
   "outputs": [
    {
     "data": {
      "text/plain": [
       "-3.8380449126407252"
      ]
     },
     "execution_count": 70,
     "metadata": {},
     "output_type": "execute_result"
    }
   ],
   "source": [
    "(L(S,w1,w2,w3,b1,b2,b3_11,y)[1] - L(S,w1,w2,w3,b1,b2,b3,y)[1])/(.00001)"
   ]
  },
  {
   "cell_type": "code",
   "execution_count": 73,
   "metadata": {},
   "outputs": [
    {
     "data": {
      "text/plain": [
       "array([[-3.83805491]])"
      ]
     },
     "execution_count": 73,
     "metadata": {},
     "output_type": "execute_result"
    }
   ],
   "source": [
    "grad['b3']"
   ]
  },
  {
   "cell_type": "code",
   "execution_count": null,
   "metadata": {},
   "outputs": [],
   "source": []
  }
 ],
 "metadata": {
  "kernelspec": {
   "display_name": "Python 3",
   "language": "python",
   "name": "python3"
  },
  "language_info": {
   "codemirror_mode": {
    "name": "ipython",
    "version": 3
   },
   "file_extension": ".py",
   "mimetype": "text/x-python",
   "name": "python",
   "nbconvert_exporter": "python",
   "pygments_lexer": "ipython3",
   "version": "3.7.3"
  }
 },
 "nbformat": 4,
 "nbformat_minor": 2
}
