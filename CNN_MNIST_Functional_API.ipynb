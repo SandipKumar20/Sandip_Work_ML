{
 "cells": [
  {
   "cell_type": "code",
   "execution_count": 4,
   "metadata": {},
   "outputs": [],
   "source": [
    "import numpy as np\n",
    "from tensorflow.keras.layers import Dense, Dropout, Input\n",
    "from tensorflow.keras.layers import Conv2D, MaxPooling2D, Flatten\n",
    "from tensorflow.keras.models import Model\n",
    "from tensorflow.keras.datasets import mnist\n",
    "from tensorflow.keras.utils import to_categorical"
   ]
  },
  {
   "cell_type": "code",
   "execution_count": 5,
   "metadata": {},
   "outputs": [],
   "source": [
    "(x_train, y_train), (x_test, y_test) = mnist.load_data()\n",
    "num_labels = len(np.unique(y_train))\n",
    "y_train = to_categorical(y_train)\n",
    "y_test = to_categorical(y_test)\n",
    "\n",
    "image_size = x_train.shape[1]\n",
    "\n",
    "x_train = np.reshape(x_train,[-1, image_size, image_size, 1])\n",
    "x_test = np.reshape(x_test,[-1, image_size, image_size, 1])\n",
    "x_train = x_train.astype('float32') / 255\n",
    "x_test = x_test.astype('float32') / 255"
   ]
  },
  {
   "cell_type": "code",
   "execution_count": 7,
   "metadata": {},
   "outputs": [],
   "source": [
    "input_shape = (image_size, image_size, 1)\n",
    "batch_size = 128\n",
    "kernel_size = 3\n",
    "filters = 64\n",
    "dropout = 0.3"
   ]
  },
  {
   "cell_type": "code",
   "execution_count": 10,
   "metadata": {},
   "outputs": [
    {
     "name": "stdout",
     "output_type": "stream",
     "text": [
      "Model: \"model_1\"\n",
      "_________________________________________________________________\n",
      "Layer (type)                 Output Shape              Param #   \n",
      "=================================================================\n",
      "input_2 (InputLayer)         [(None, 28, 28, 1)]       0         \n",
      "_________________________________________________________________\n",
      "conv2d_3 (Conv2D)            (None, 26, 26, 64)        640       \n",
      "_________________________________________________________________\n",
      "max_pooling2d_2 (MaxPooling2 (None, 13, 13, 64)        0         \n",
      "_________________________________________________________________\n",
      "conv2d_4 (Conv2D)            (None, 11, 11, 64)        36928     \n",
      "_________________________________________________________________\n",
      "max_pooling2d_3 (MaxPooling2 (None, 5, 5, 64)          0         \n",
      "_________________________________________________________________\n",
      "conv2d_5 (Conv2D)            (None, 3, 3, 64)          36928     \n",
      "_________________________________________________________________\n",
      "flatten_1 (Flatten)          (None, 576)               0         \n",
      "_________________________________________________________________\n",
      "dropout_1 (Dropout)          (None, 576)               0         \n",
      "_________________________________________________________________\n",
      "dense_1 (Dense)              (None, 10)                5770      \n",
      "=================================================================\n",
      "Total params: 80,266\n",
      "Trainable params: 80,266\n",
      "Non-trainable params: 0\n",
      "_________________________________________________________________\n"
     ]
    }
   ],
   "source": [
    "inputs = Input(shape=input_shape)\n",
    "y = Conv2D(filters=filters,\n",
    "           kernel_size=kernel_size,\n",
    "           activation='relu')(inputs)\n",
    "y = MaxPooling2D()(y)\n",
    "y = Conv2D(filters=filters,\n",
    "           kernel_size=kernel_size,\n",
    "           activation='relu')(y)\n",
    "y = MaxPooling2D()(y)\n",
    "y = Conv2D(filters=filters,\n",
    "           kernel_size=kernel_size,\n",
    "           activation='relu')(y)\n",
    "y = Flatten()(y)\n",
    "y = Dropout(dropout)(y)\n",
    "outputs = Dense(num_labels, activation='softmax')(y)\n",
    "S_Net = Model(inputs=inputs, outputs=outputs)\n",
    "S_Net.summary()"
   ]
  },
  {
   "cell_type": "code",
   "execution_count": 11,
   "metadata": {},
   "outputs": [
    {
     "name": "stdout",
     "output_type": "stream",
     "text": [
      "Epoch 1/20\n",
      "469/469 [==============================] - 49s 104ms/step - loss: 0.2658 - accuracy: 0.9171 - val_loss: 0.0577 - val_accuracy: 0.9812\n",
      "Epoch 2/20\n",
      "469/469 [==============================] - 47s 100ms/step - loss: 0.0723 - accuracy: 0.9779 - val_loss: 0.0390 - val_accuracy: 0.9875\n",
      "Epoch 3/20\n",
      "469/469 [==============================] - 47s 100ms/step - loss: 0.0515 - accuracy: 0.9841 - val_loss: 0.0309 - val_accuracy: 0.9901\n",
      "Epoch 4/20\n",
      "469/469 [==============================] - 46s 99ms/step - loss: 0.0415 - accuracy: 0.9870 - val_loss: 0.0270 - val_accuracy: 0.9915\n",
      "Epoch 5/20\n",
      "469/469 [==============================] - 47s 100ms/step - loss: 0.0360 - accuracy: 0.9890 - val_loss: 0.0262 - val_accuracy: 0.9921\n",
      "Epoch 6/20\n",
      "469/469 [==============================] - 46s 99ms/step - loss: 0.0316 - accuracy: 0.9902 - val_loss: 0.0244 - val_accuracy: 0.9916\n",
      "Epoch 7/20\n",
      "469/469 [==============================] - 47s 100ms/step - loss: 0.0269 - accuracy: 0.9909 - val_loss: 0.0232 - val_accuracy: 0.9932\n",
      "Epoch 8/20\n",
      "469/469 [==============================] - 47s 100ms/step - loss: 0.0245 - accuracy: 0.9923 - val_loss: 0.0279 - val_accuracy: 0.9918\n",
      "Epoch 9/20\n",
      "469/469 [==============================] - 35s 74ms/step - loss: 0.0227 - accuracy: 0.9927 - val_loss: 0.0237 - val_accuracy: 0.9930\n",
      "Epoch 10/20\n",
      "469/469 [==============================] - 34s 72ms/step - loss: 0.0201 - accuracy: 0.9934 - val_loss: 0.0255 - val_accuracy: 0.9922\n",
      "Epoch 11/20\n",
      "469/469 [==============================] - 37s 78ms/step - loss: 0.0175 - accuracy: 0.9943 - val_loss: 0.0245 - val_accuracy: 0.9924\n",
      "Epoch 12/20\n",
      "469/469 [==============================] - 35s 75ms/step - loss: 0.0152 - accuracy: 0.9948 - val_loss: 0.0245 - val_accuracy: 0.9926\n",
      "Epoch 13/20\n",
      "469/469 [==============================] - 34s 73ms/step - loss: 0.0151 - accuracy: 0.9951 - val_loss: 0.0301 - val_accuracy: 0.9910\n",
      "Epoch 14/20\n",
      "469/469 [==============================] - 33s 70ms/step - loss: 0.0140 - accuracy: 0.9952 - val_loss: 0.0251 - val_accuracy: 0.9929\n",
      "Epoch 15/20\n",
      "469/469 [==============================] - 32s 69ms/step - loss: 0.0123 - accuracy: 0.9959 - val_loss: 0.0252 - val_accuracy: 0.9927\n",
      "Epoch 16/20\n",
      "469/469 [==============================] - 33s 70ms/step - loss: 0.0114 - accuracy: 0.9962 - val_loss: 0.0283 - val_accuracy: 0.9927\n",
      "Epoch 17/20\n",
      "469/469 [==============================] - 33s 69ms/step - loss: 0.0112 - accuracy: 0.9963 - val_loss: 0.0289 - val_accuracy: 0.9924\n",
      "Epoch 18/20\n",
      "469/469 [==============================] - 37s 79ms/step - loss: 0.0101 - accuracy: 0.9966 - val_loss: 0.0270 - val_accuracy: 0.9932\n",
      "Epoch 19/20\n",
      "469/469 [==============================] - 35s 74ms/step - loss: 0.0087 - accuracy: 0.9969 - val_loss: 0.0304 - val_accuracy: 0.9918\n",
      "Epoch 20/20\n",
      "469/469 [==============================] - 32s 69ms/step - loss: 0.0090 - accuracy: 0.9971 - val_loss: 0.0256 - val_accuracy: 0.9938\n"
     ]
    },
    {
     "data": {
      "text/plain": [
       "<tensorflow.python.keras.callbacks.History at 0x7f362db6b820>"
      ]
     },
     "execution_count": 11,
     "metadata": {},
     "output_type": "execute_result"
    }
   ],
   "source": [
    "S_Net.compile(loss='categorical_crossentropy',\n",
    "              optimizer='adam',\n",
    "              metrics=['accuracy'])\n",
    "\n",
    "S_Net.fit(x_train,\n",
    "          y_train,\n",
    "          validation_data=(x_test, y_test),\n",
    "          epochs=20,\n",
    "          batch_size=batch_size)"
   ]
  },
  {
   "cell_type": "code",
   "execution_count": null,
   "metadata": {},
   "outputs": [],
   "source": [
    "score = model.evaluate(x_test,\n",
    "                       y_test,\n",
    "                       batch_size=batch_size,\n",
    "                       verbose=0)\n",
    "print(\"\\nTest accuracy: %.1f%%\" % (100.0 * score[1]))"
   ]
  }
 ],
 "metadata": {
  "kernelspec": {
   "display_name": "Python 3",
   "language": "python",
   "name": "python3"
  }
 },
 "nbformat": 4,
 "nbformat_minor": 4
}
