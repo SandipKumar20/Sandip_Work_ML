{
 "cells": [
  {
   "cell_type": "code",
   "execution_count": 1,
   "id": "0e64642d",
   "metadata": {},
   "outputs": [],
   "source": [
    "import numpy as np\n",
    "import pandas as pd\n",
    "import matplotlib.pyplot as plt\n",
    "import seaborn as sns\n",
    "\n",
    "%matplotlib inline\n",
    "\n",
    "import os\n",
    "\n",
    "import warnings\n",
    "warnings.filterwarnings('ignore')"
   ]
  },
  {
   "cell_type": "code",
   "execution_count": 2,
   "id": "4b290bb4",
   "metadata": {},
   "outputs": [],
   "source": [
    "data = pd.read_csv(\"/home/user/Internshala/heart.csv\")"
   ]
  },
  {
   "cell_type": "code",
   "execution_count": 3,
   "id": "e3d1fccd",
   "metadata": {},
   "outputs": [
    {
     "data": {
      "text/html": [
       "<div>\n",
       "<style scoped>\n",
       "    .dataframe tbody tr th:only-of-type {\n",
       "        vertical-align: middle;\n",
       "    }\n",
       "\n",
       "    .dataframe tbody tr th {\n",
       "        vertical-align: top;\n",
       "    }\n",
       "\n",
       "    .dataframe thead th {\n",
       "        text-align: right;\n",
       "    }\n",
       "</style>\n",
       "<table border=\"1\" class=\"dataframe\">\n",
       "  <thead>\n",
       "    <tr style=\"text-align: right;\">\n",
       "      <th></th>\n",
       "      <th>age</th>\n",
       "      <th>sex</th>\n",
       "      <th>cp</th>\n",
       "      <th>trestbps</th>\n",
       "      <th>chol</th>\n",
       "      <th>fbs</th>\n",
       "      <th>restecg</th>\n",
       "      <th>thalach</th>\n",
       "      <th>exang</th>\n",
       "      <th>oldpeak</th>\n",
       "      <th>slope</th>\n",
       "      <th>ca</th>\n",
       "      <th>thal</th>\n",
       "      <th>target</th>\n",
       "    </tr>\n",
       "  </thead>\n",
       "  <tbody>\n",
       "    <tr>\n",
       "      <th>295</th>\n",
       "      <td>63</td>\n",
       "      <td>1</td>\n",
       "      <td>0</td>\n",
       "      <td>140</td>\n",
       "      <td>187</td>\n",
       "      <td>0</td>\n",
       "      <td>0</td>\n",
       "      <td>144</td>\n",
       "      <td>1</td>\n",
       "      <td>4.0</td>\n",
       "      <td>2</td>\n",
       "      <td>2</td>\n",
       "      <td>3</td>\n",
       "      <td>0</td>\n",
       "    </tr>\n",
       "    <tr>\n",
       "      <th>296</th>\n",
       "      <td>63</td>\n",
       "      <td>0</td>\n",
       "      <td>0</td>\n",
       "      <td>124</td>\n",
       "      <td>197</td>\n",
       "      <td>0</td>\n",
       "      <td>1</td>\n",
       "      <td>136</td>\n",
       "      <td>1</td>\n",
       "      <td>0.0</td>\n",
       "      <td>1</td>\n",
       "      <td>0</td>\n",
       "      <td>2</td>\n",
       "      <td>0</td>\n",
       "    </tr>\n",
       "    <tr>\n",
       "      <th>297</th>\n",
       "      <td>59</td>\n",
       "      <td>1</td>\n",
       "      <td>0</td>\n",
       "      <td>164</td>\n",
       "      <td>176</td>\n",
       "      <td>1</td>\n",
       "      <td>0</td>\n",
       "      <td>90</td>\n",
       "      <td>0</td>\n",
       "      <td>1.0</td>\n",
       "      <td>1</td>\n",
       "      <td>2</td>\n",
       "      <td>1</td>\n",
       "      <td>0</td>\n",
       "    </tr>\n",
       "    <tr>\n",
       "      <th>298</th>\n",
       "      <td>57</td>\n",
       "      <td>0</td>\n",
       "      <td>0</td>\n",
       "      <td>140</td>\n",
       "      <td>241</td>\n",
       "      <td>0</td>\n",
       "      <td>1</td>\n",
       "      <td>123</td>\n",
       "      <td>1</td>\n",
       "      <td>0.2</td>\n",
       "      <td>1</td>\n",
       "      <td>0</td>\n",
       "      <td>3</td>\n",
       "      <td>0</td>\n",
       "    </tr>\n",
       "    <tr>\n",
       "      <th>299</th>\n",
       "      <td>45</td>\n",
       "      <td>1</td>\n",
       "      <td>3</td>\n",
       "      <td>110</td>\n",
       "      <td>264</td>\n",
       "      <td>0</td>\n",
       "      <td>1</td>\n",
       "      <td>132</td>\n",
       "      <td>0</td>\n",
       "      <td>1.2</td>\n",
       "      <td>1</td>\n",
       "      <td>0</td>\n",
       "      <td>3</td>\n",
       "      <td>0</td>\n",
       "    </tr>\n",
       "    <tr>\n",
       "      <th>300</th>\n",
       "      <td>68</td>\n",
       "      <td>1</td>\n",
       "      <td>0</td>\n",
       "      <td>144</td>\n",
       "      <td>193</td>\n",
       "      <td>1</td>\n",
       "      <td>1</td>\n",
       "      <td>141</td>\n",
       "      <td>0</td>\n",
       "      <td>3.4</td>\n",
       "      <td>1</td>\n",
       "      <td>2</td>\n",
       "      <td>3</td>\n",
       "      <td>0</td>\n",
       "    </tr>\n",
       "    <tr>\n",
       "      <th>301</th>\n",
       "      <td>57</td>\n",
       "      <td>1</td>\n",
       "      <td>0</td>\n",
       "      <td>130</td>\n",
       "      <td>131</td>\n",
       "      <td>0</td>\n",
       "      <td>1</td>\n",
       "      <td>115</td>\n",
       "      <td>1</td>\n",
       "      <td>1.2</td>\n",
       "      <td>1</td>\n",
       "      <td>1</td>\n",
       "      <td>3</td>\n",
       "      <td>0</td>\n",
       "    </tr>\n",
       "    <tr>\n",
       "      <th>302</th>\n",
       "      <td>57</td>\n",
       "      <td>0</td>\n",
       "      <td>1</td>\n",
       "      <td>130</td>\n",
       "      <td>236</td>\n",
       "      <td>0</td>\n",
       "      <td>0</td>\n",
       "      <td>174</td>\n",
       "      <td>0</td>\n",
       "      <td>0.0</td>\n",
       "      <td>1</td>\n",
       "      <td>1</td>\n",
       "      <td>2</td>\n",
       "      <td>0</td>\n",
       "    </tr>\n",
       "  </tbody>\n",
       "</table>\n",
       "</div>"
      ],
      "text/plain": [
       "     age  sex  cp  trestbps  chol  fbs  restecg  thalach  exang  oldpeak  \\\n",
       "295   63    1   0       140   187    0        0      144      1      4.0   \n",
       "296   63    0   0       124   197    0        1      136      1      0.0   \n",
       "297   59    1   0       164   176    1        0       90      0      1.0   \n",
       "298   57    0   0       140   241    0        1      123      1      0.2   \n",
       "299   45    1   3       110   264    0        1      132      0      1.2   \n",
       "300   68    1   0       144   193    1        1      141      0      3.4   \n",
       "301   57    1   0       130   131    0        1      115      1      1.2   \n",
       "302   57    0   1       130   236    0        0      174      0      0.0   \n",
       "\n",
       "     slope  ca  thal  target  \n",
       "295      2   2     3       0  \n",
       "296      1   0     2       0  \n",
       "297      1   2     1       0  \n",
       "298      1   0     3       0  \n",
       "299      1   0     3       0  \n",
       "300      1   2     3       0  \n",
       "301      1   1     3       0  \n",
       "302      1   1     2       0  "
      ]
     },
     "execution_count": 3,
     "metadata": {},
     "output_type": "execute_result"
    }
   ],
   "source": [
    "data.tail(8)"
   ]
  },
  {
   "cell_type": "code",
   "execution_count": 4,
   "id": "2f4dbcf3",
   "metadata": {},
   "outputs": [
    {
     "data": {
      "text/plain": [
       "(303, 14)"
      ]
     },
     "execution_count": 4,
     "metadata": {},
     "output_type": "execute_result"
    }
   ],
   "source": [
    "data.shape"
   ]
  },
  {
   "cell_type": "code",
   "execution_count": 5,
   "id": "f5930013",
   "metadata": {},
   "outputs": [
    {
     "name": "stdout",
     "output_type": "stream",
     "text": [
      "<class 'pandas.core.frame.DataFrame'>\n",
      "RangeIndex: 303 entries, 0 to 302\n",
      "Data columns (total 14 columns):\n",
      " #   Column    Non-Null Count  Dtype  \n",
      "---  ------    --------------  -----  \n",
      " 0   age       303 non-null    int64  \n",
      " 1   sex       303 non-null    int64  \n",
      " 2   cp        303 non-null    int64  \n",
      " 3   trestbps  303 non-null    int64  \n",
      " 4   chol      303 non-null    int64  \n",
      " 5   fbs       303 non-null    int64  \n",
      " 6   restecg   303 non-null    int64  \n",
      " 7   thalach   303 non-null    int64  \n",
      " 8   exang     303 non-null    int64  \n",
      " 9   oldpeak   303 non-null    float64\n",
      " 10  slope     303 non-null    int64  \n",
      " 11  ca        303 non-null    int64  \n",
      " 12  thal      303 non-null    int64  \n",
      " 13  target    303 non-null    int64  \n",
      "dtypes: float64(1), int64(13)\n",
      "memory usage: 33.3 KB\n"
     ]
    }
   ],
   "source": [
    "data.info()"
   ]
  },
  {
   "cell_type": "code",
   "execution_count": 6,
   "id": "c14b1dce",
   "metadata": {},
   "outputs": [
    {
     "data": {
      "text/html": [
       "<div>\n",
       "<style scoped>\n",
       "    .dataframe tbody tr th:only-of-type {\n",
       "        vertical-align: middle;\n",
       "    }\n",
       "\n",
       "    .dataframe tbody tr th {\n",
       "        vertical-align: top;\n",
       "    }\n",
       "\n",
       "    .dataframe thead th {\n",
       "        text-align: right;\n",
       "    }\n",
       "</style>\n",
       "<table border=\"1\" class=\"dataframe\">\n",
       "  <thead>\n",
       "    <tr style=\"text-align: right;\">\n",
       "      <th></th>\n",
       "      <th>age</th>\n",
       "      <th>sex</th>\n",
       "      <th>cp</th>\n",
       "      <th>trestbps</th>\n",
       "      <th>chol</th>\n",
       "      <th>fbs</th>\n",
       "      <th>restecg</th>\n",
       "      <th>thalach</th>\n",
       "      <th>exang</th>\n",
       "      <th>oldpeak</th>\n",
       "      <th>slope</th>\n",
       "      <th>ca</th>\n",
       "      <th>thal</th>\n",
       "      <th>target</th>\n",
       "    </tr>\n",
       "  </thead>\n",
       "  <tbody>\n",
       "    <tr>\n",
       "      <th>count</th>\n",
       "      <td>303.000000</td>\n",
       "      <td>303.000000</td>\n",
       "      <td>303.000000</td>\n",
       "      <td>303.000000</td>\n",
       "      <td>303.000000</td>\n",
       "      <td>303.000000</td>\n",
       "      <td>303.000000</td>\n",
       "      <td>303.000000</td>\n",
       "      <td>303.000000</td>\n",
       "      <td>303.000000</td>\n",
       "      <td>303.000000</td>\n",
       "      <td>303.000000</td>\n",
       "      <td>303.000000</td>\n",
       "      <td>303.000000</td>\n",
       "    </tr>\n",
       "    <tr>\n",
       "      <th>mean</th>\n",
       "      <td>54.366337</td>\n",
       "      <td>0.683168</td>\n",
       "      <td>0.966997</td>\n",
       "      <td>131.623762</td>\n",
       "      <td>246.264026</td>\n",
       "      <td>0.148515</td>\n",
       "      <td>0.528053</td>\n",
       "      <td>149.646865</td>\n",
       "      <td>0.326733</td>\n",
       "      <td>1.039604</td>\n",
       "      <td>1.399340</td>\n",
       "      <td>0.729373</td>\n",
       "      <td>2.313531</td>\n",
       "      <td>0.544554</td>\n",
       "    </tr>\n",
       "    <tr>\n",
       "      <th>std</th>\n",
       "      <td>9.082101</td>\n",
       "      <td>0.466011</td>\n",
       "      <td>1.032052</td>\n",
       "      <td>17.538143</td>\n",
       "      <td>51.830751</td>\n",
       "      <td>0.356198</td>\n",
       "      <td>0.525860</td>\n",
       "      <td>22.905161</td>\n",
       "      <td>0.469794</td>\n",
       "      <td>1.161075</td>\n",
       "      <td>0.616226</td>\n",
       "      <td>1.022606</td>\n",
       "      <td>0.612277</td>\n",
       "      <td>0.498835</td>\n",
       "    </tr>\n",
       "    <tr>\n",
       "      <th>min</th>\n",
       "      <td>29.000000</td>\n",
       "      <td>0.000000</td>\n",
       "      <td>0.000000</td>\n",
       "      <td>94.000000</td>\n",
       "      <td>126.000000</td>\n",
       "      <td>0.000000</td>\n",
       "      <td>0.000000</td>\n",
       "      <td>71.000000</td>\n",
       "      <td>0.000000</td>\n",
       "      <td>0.000000</td>\n",
       "      <td>0.000000</td>\n",
       "      <td>0.000000</td>\n",
       "      <td>0.000000</td>\n",
       "      <td>0.000000</td>\n",
       "    </tr>\n",
       "    <tr>\n",
       "      <th>25%</th>\n",
       "      <td>47.500000</td>\n",
       "      <td>0.000000</td>\n",
       "      <td>0.000000</td>\n",
       "      <td>120.000000</td>\n",
       "      <td>211.000000</td>\n",
       "      <td>0.000000</td>\n",
       "      <td>0.000000</td>\n",
       "      <td>133.500000</td>\n",
       "      <td>0.000000</td>\n",
       "      <td>0.000000</td>\n",
       "      <td>1.000000</td>\n",
       "      <td>0.000000</td>\n",
       "      <td>2.000000</td>\n",
       "      <td>0.000000</td>\n",
       "    </tr>\n",
       "    <tr>\n",
       "      <th>50%</th>\n",
       "      <td>55.000000</td>\n",
       "      <td>1.000000</td>\n",
       "      <td>1.000000</td>\n",
       "      <td>130.000000</td>\n",
       "      <td>240.000000</td>\n",
       "      <td>0.000000</td>\n",
       "      <td>1.000000</td>\n",
       "      <td>153.000000</td>\n",
       "      <td>0.000000</td>\n",
       "      <td>0.800000</td>\n",
       "      <td>1.000000</td>\n",
       "      <td>0.000000</td>\n",
       "      <td>2.000000</td>\n",
       "      <td>1.000000</td>\n",
       "    </tr>\n",
       "    <tr>\n",
       "      <th>75%</th>\n",
       "      <td>61.000000</td>\n",
       "      <td>1.000000</td>\n",
       "      <td>2.000000</td>\n",
       "      <td>140.000000</td>\n",
       "      <td>274.500000</td>\n",
       "      <td>0.000000</td>\n",
       "      <td>1.000000</td>\n",
       "      <td>166.000000</td>\n",
       "      <td>1.000000</td>\n",
       "      <td>1.600000</td>\n",
       "      <td>2.000000</td>\n",
       "      <td>1.000000</td>\n",
       "      <td>3.000000</td>\n",
       "      <td>1.000000</td>\n",
       "    </tr>\n",
       "    <tr>\n",
       "      <th>max</th>\n",
       "      <td>77.000000</td>\n",
       "      <td>1.000000</td>\n",
       "      <td>3.000000</td>\n",
       "      <td>200.000000</td>\n",
       "      <td>564.000000</td>\n",
       "      <td>1.000000</td>\n",
       "      <td>2.000000</td>\n",
       "      <td>202.000000</td>\n",
       "      <td>1.000000</td>\n",
       "      <td>6.200000</td>\n",
       "      <td>2.000000</td>\n",
       "      <td>4.000000</td>\n",
       "      <td>3.000000</td>\n",
       "      <td>1.000000</td>\n",
       "    </tr>\n",
       "  </tbody>\n",
       "</table>\n",
       "</div>"
      ],
      "text/plain": [
       "              age         sex          cp    trestbps        chol         fbs  \\\n",
       "count  303.000000  303.000000  303.000000  303.000000  303.000000  303.000000   \n",
       "mean    54.366337    0.683168    0.966997  131.623762  246.264026    0.148515   \n",
       "std      9.082101    0.466011    1.032052   17.538143   51.830751    0.356198   \n",
       "min     29.000000    0.000000    0.000000   94.000000  126.000000    0.000000   \n",
       "25%     47.500000    0.000000    0.000000  120.000000  211.000000    0.000000   \n",
       "50%     55.000000    1.000000    1.000000  130.000000  240.000000    0.000000   \n",
       "75%     61.000000    1.000000    2.000000  140.000000  274.500000    0.000000   \n",
       "max     77.000000    1.000000    3.000000  200.000000  564.000000    1.000000   \n",
       "\n",
       "          restecg     thalach       exang     oldpeak       slope          ca  \\\n",
       "count  303.000000  303.000000  303.000000  303.000000  303.000000  303.000000   \n",
       "mean     0.528053  149.646865    0.326733    1.039604    1.399340    0.729373   \n",
       "std      0.525860   22.905161    0.469794    1.161075    0.616226    1.022606   \n",
       "min      0.000000   71.000000    0.000000    0.000000    0.000000    0.000000   \n",
       "25%      0.000000  133.500000    0.000000    0.000000    1.000000    0.000000   \n",
       "50%      1.000000  153.000000    0.000000    0.800000    1.000000    0.000000   \n",
       "75%      1.000000  166.000000    1.000000    1.600000    2.000000    1.000000   \n",
       "max      2.000000  202.000000    1.000000    6.200000    2.000000    4.000000   \n",
       "\n",
       "             thal      target  \n",
       "count  303.000000  303.000000  \n",
       "mean     2.313531    0.544554  \n",
       "std      0.612277    0.498835  \n",
       "min      0.000000    0.000000  \n",
       "25%      2.000000    0.000000  \n",
       "50%      2.000000    1.000000  \n",
       "75%      3.000000    1.000000  \n",
       "max      3.000000    1.000000  "
      ]
     },
     "execution_count": 6,
     "metadata": {},
     "output_type": "execute_result"
    }
   ],
   "source": [
    "data.describe()"
   ]
  },
  {
   "cell_type": "code",
   "execution_count": 7,
   "id": "0b16329a",
   "metadata": {},
   "outputs": [
    {
     "name": "stdout",
     "output_type": "stream",
     "text": [
      "age:\t\t\tage\n",
      "sex:\t\t\t1: male, 0: female\n",
      "cp:\t\t\tchest pain type, 1: typical angina, 2: atypical angina, 3: non-anginal pain, 4: asymptomatic\n",
      "trestbps:\t\t\tresting blood pressure\n",
      "chol:\t\t\t serum cholestoral in mg/dl\n",
      "fbs:\t\t\tfasting blood sugar > 120 mg/dl\n",
      "restecg:\t\t\tresting electrocardiographic results (values 0,1,2)\n",
      "thalach:\t\t\t maximum heart rate achieved\n",
      "exang:\t\t\texercise induced angina\n",
      "oldpeak:\t\t\toldpeak = ST depression induced by exercise relative to rest\n",
      "slope:\t\t\tthe slope of the peak exercise ST segment\n",
      "ca:\t\t\tnumber of major vessels (0-3) colored by flourosopy\n",
      "thal:\t\t\tthal: 3 = normal; 6 = fixed defect; 7 = reversable defect\n"
     ]
    }
   ],
   "source": [
    "info = [\"age\",\"1: male, 0: female\",\"chest pain type, 1: typical angina, 2: atypical angina, 3: non-anginal pain, 4: asymptomatic\",\"resting blood pressure\",\" serum cholestoral in mg/dl\",\"fasting blood sugar > 120 mg/dl\",\"resting electrocardiographic results (values 0,1,2)\",\" maximum heart rate achieved\",\"exercise induced angina\",\"oldpeak = ST depression induced by exercise relative to rest\",\"the slope of the peak exercise ST segment\",\"number of major vessels (0-3) colored by flourosopy\",\"thal: 3 = normal; 6 = fixed defect; 7 = reversable defect\"]\n",
    "\n",
    "for i in range(len(info)):\n",
    "    print(data.columns[i]+\":\\t\\t\\t\"+info[i])"
   ]
  },
  {
   "cell_type": "code",
   "execution_count": 8,
   "id": "9664350a",
   "metadata": {},
   "outputs": [
    {
     "data": {
      "text/plain": [
       "array([1, 0])"
      ]
     },
     "execution_count": 8,
     "metadata": {},
     "output_type": "execute_result"
    }
   ],
   "source": [
    "data[\"target\"].unique()"
   ]
  },
  {
   "cell_type": "code",
   "execution_count": 9,
   "id": "a3cc22e8",
   "metadata": {},
   "outputs": [
    {
     "data": {
      "text/html": [
       "<div>\n",
       "<style scoped>\n",
       "    .dataframe tbody tr th:only-of-type {\n",
       "        vertical-align: middle;\n",
       "    }\n",
       "\n",
       "    .dataframe tbody tr th {\n",
       "        vertical-align: top;\n",
       "    }\n",
       "\n",
       "    .dataframe thead th {\n",
       "        text-align: right;\n",
       "    }\n",
       "</style>\n",
       "<table border=\"1\" class=\"dataframe\">\n",
       "  <thead>\n",
       "    <tr style=\"text-align: right;\">\n",
       "      <th></th>\n",
       "      <th>age</th>\n",
       "      <th>sex</th>\n",
       "      <th>cp</th>\n",
       "      <th>trestbps</th>\n",
       "      <th>chol</th>\n",
       "      <th>fbs</th>\n",
       "      <th>restecg</th>\n",
       "      <th>thalach</th>\n",
       "      <th>exang</th>\n",
       "      <th>oldpeak</th>\n",
       "      <th>slope</th>\n",
       "      <th>ca</th>\n",
       "      <th>thal</th>\n",
       "      <th>target</th>\n",
       "    </tr>\n",
       "  </thead>\n",
       "  <tbody>\n",
       "    <tr>\n",
       "      <th>age</th>\n",
       "      <td>1.000000</td>\n",
       "      <td>-0.098447</td>\n",
       "      <td>-0.068653</td>\n",
       "      <td>0.279351</td>\n",
       "      <td>0.213678</td>\n",
       "      <td>0.121308</td>\n",
       "      <td>-0.116211</td>\n",
       "      <td>-0.398522</td>\n",
       "      <td>0.096801</td>\n",
       "      <td>0.210013</td>\n",
       "      <td>-0.168814</td>\n",
       "      <td>0.276326</td>\n",
       "      <td>0.068001</td>\n",
       "      <td>-0.225439</td>\n",
       "    </tr>\n",
       "    <tr>\n",
       "      <th>sex</th>\n",
       "      <td>-0.098447</td>\n",
       "      <td>1.000000</td>\n",
       "      <td>-0.049353</td>\n",
       "      <td>-0.056769</td>\n",
       "      <td>-0.197912</td>\n",
       "      <td>0.045032</td>\n",
       "      <td>-0.058196</td>\n",
       "      <td>-0.044020</td>\n",
       "      <td>0.141664</td>\n",
       "      <td>0.096093</td>\n",
       "      <td>-0.030711</td>\n",
       "      <td>0.118261</td>\n",
       "      <td>0.210041</td>\n",
       "      <td>-0.280937</td>\n",
       "    </tr>\n",
       "    <tr>\n",
       "      <th>cp</th>\n",
       "      <td>-0.068653</td>\n",
       "      <td>-0.049353</td>\n",
       "      <td>1.000000</td>\n",
       "      <td>0.047608</td>\n",
       "      <td>-0.076904</td>\n",
       "      <td>0.094444</td>\n",
       "      <td>0.044421</td>\n",
       "      <td>0.295762</td>\n",
       "      <td>-0.394280</td>\n",
       "      <td>-0.149230</td>\n",
       "      <td>0.119717</td>\n",
       "      <td>-0.181053</td>\n",
       "      <td>-0.161736</td>\n",
       "      <td>0.433798</td>\n",
       "    </tr>\n",
       "    <tr>\n",
       "      <th>trestbps</th>\n",
       "      <td>0.279351</td>\n",
       "      <td>-0.056769</td>\n",
       "      <td>0.047608</td>\n",
       "      <td>1.000000</td>\n",
       "      <td>0.123174</td>\n",
       "      <td>0.177531</td>\n",
       "      <td>-0.114103</td>\n",
       "      <td>-0.046698</td>\n",
       "      <td>0.067616</td>\n",
       "      <td>0.193216</td>\n",
       "      <td>-0.121475</td>\n",
       "      <td>0.101389</td>\n",
       "      <td>0.062210</td>\n",
       "      <td>-0.144931</td>\n",
       "    </tr>\n",
       "    <tr>\n",
       "      <th>chol</th>\n",
       "      <td>0.213678</td>\n",
       "      <td>-0.197912</td>\n",
       "      <td>-0.076904</td>\n",
       "      <td>0.123174</td>\n",
       "      <td>1.000000</td>\n",
       "      <td>0.013294</td>\n",
       "      <td>-0.151040</td>\n",
       "      <td>-0.009940</td>\n",
       "      <td>0.067023</td>\n",
       "      <td>0.053952</td>\n",
       "      <td>-0.004038</td>\n",
       "      <td>0.070511</td>\n",
       "      <td>0.098803</td>\n",
       "      <td>-0.085239</td>\n",
       "    </tr>\n",
       "    <tr>\n",
       "      <th>fbs</th>\n",
       "      <td>0.121308</td>\n",
       "      <td>0.045032</td>\n",
       "      <td>0.094444</td>\n",
       "      <td>0.177531</td>\n",
       "      <td>0.013294</td>\n",
       "      <td>1.000000</td>\n",
       "      <td>-0.084189</td>\n",
       "      <td>-0.008567</td>\n",
       "      <td>0.025665</td>\n",
       "      <td>0.005747</td>\n",
       "      <td>-0.059894</td>\n",
       "      <td>0.137979</td>\n",
       "      <td>-0.032019</td>\n",
       "      <td>-0.028046</td>\n",
       "    </tr>\n",
       "    <tr>\n",
       "      <th>restecg</th>\n",
       "      <td>-0.116211</td>\n",
       "      <td>-0.058196</td>\n",
       "      <td>0.044421</td>\n",
       "      <td>-0.114103</td>\n",
       "      <td>-0.151040</td>\n",
       "      <td>-0.084189</td>\n",
       "      <td>1.000000</td>\n",
       "      <td>0.044123</td>\n",
       "      <td>-0.070733</td>\n",
       "      <td>-0.058770</td>\n",
       "      <td>0.093045</td>\n",
       "      <td>-0.072042</td>\n",
       "      <td>-0.011981</td>\n",
       "      <td>0.137230</td>\n",
       "    </tr>\n",
       "    <tr>\n",
       "      <th>thalach</th>\n",
       "      <td>-0.398522</td>\n",
       "      <td>-0.044020</td>\n",
       "      <td>0.295762</td>\n",
       "      <td>-0.046698</td>\n",
       "      <td>-0.009940</td>\n",
       "      <td>-0.008567</td>\n",
       "      <td>0.044123</td>\n",
       "      <td>1.000000</td>\n",
       "      <td>-0.378812</td>\n",
       "      <td>-0.344187</td>\n",
       "      <td>0.386784</td>\n",
       "      <td>-0.213177</td>\n",
       "      <td>-0.096439</td>\n",
       "      <td>0.421741</td>\n",
       "    </tr>\n",
       "    <tr>\n",
       "      <th>exang</th>\n",
       "      <td>0.096801</td>\n",
       "      <td>0.141664</td>\n",
       "      <td>-0.394280</td>\n",
       "      <td>0.067616</td>\n",
       "      <td>0.067023</td>\n",
       "      <td>0.025665</td>\n",
       "      <td>-0.070733</td>\n",
       "      <td>-0.378812</td>\n",
       "      <td>1.000000</td>\n",
       "      <td>0.288223</td>\n",
       "      <td>-0.257748</td>\n",
       "      <td>0.115739</td>\n",
       "      <td>0.206754</td>\n",
       "      <td>-0.436757</td>\n",
       "    </tr>\n",
       "    <tr>\n",
       "      <th>oldpeak</th>\n",
       "      <td>0.210013</td>\n",
       "      <td>0.096093</td>\n",
       "      <td>-0.149230</td>\n",
       "      <td>0.193216</td>\n",
       "      <td>0.053952</td>\n",
       "      <td>0.005747</td>\n",
       "      <td>-0.058770</td>\n",
       "      <td>-0.344187</td>\n",
       "      <td>0.288223</td>\n",
       "      <td>1.000000</td>\n",
       "      <td>-0.577537</td>\n",
       "      <td>0.222682</td>\n",
       "      <td>0.210244</td>\n",
       "      <td>-0.430696</td>\n",
       "    </tr>\n",
       "    <tr>\n",
       "      <th>slope</th>\n",
       "      <td>-0.168814</td>\n",
       "      <td>-0.030711</td>\n",
       "      <td>0.119717</td>\n",
       "      <td>-0.121475</td>\n",
       "      <td>-0.004038</td>\n",
       "      <td>-0.059894</td>\n",
       "      <td>0.093045</td>\n",
       "      <td>0.386784</td>\n",
       "      <td>-0.257748</td>\n",
       "      <td>-0.577537</td>\n",
       "      <td>1.000000</td>\n",
       "      <td>-0.080155</td>\n",
       "      <td>-0.104764</td>\n",
       "      <td>0.345877</td>\n",
       "    </tr>\n",
       "    <tr>\n",
       "      <th>ca</th>\n",
       "      <td>0.276326</td>\n",
       "      <td>0.118261</td>\n",
       "      <td>-0.181053</td>\n",
       "      <td>0.101389</td>\n",
       "      <td>0.070511</td>\n",
       "      <td>0.137979</td>\n",
       "      <td>-0.072042</td>\n",
       "      <td>-0.213177</td>\n",
       "      <td>0.115739</td>\n",
       "      <td>0.222682</td>\n",
       "      <td>-0.080155</td>\n",
       "      <td>1.000000</td>\n",
       "      <td>0.151832</td>\n",
       "      <td>-0.391724</td>\n",
       "    </tr>\n",
       "    <tr>\n",
       "      <th>thal</th>\n",
       "      <td>0.068001</td>\n",
       "      <td>0.210041</td>\n",
       "      <td>-0.161736</td>\n",
       "      <td>0.062210</td>\n",
       "      <td>0.098803</td>\n",
       "      <td>-0.032019</td>\n",
       "      <td>-0.011981</td>\n",
       "      <td>-0.096439</td>\n",
       "      <td>0.206754</td>\n",
       "      <td>0.210244</td>\n",
       "      <td>-0.104764</td>\n",
       "      <td>0.151832</td>\n",
       "      <td>1.000000</td>\n",
       "      <td>-0.344029</td>\n",
       "    </tr>\n",
       "    <tr>\n",
       "      <th>target</th>\n",
       "      <td>-0.225439</td>\n",
       "      <td>-0.280937</td>\n",
       "      <td>0.433798</td>\n",
       "      <td>-0.144931</td>\n",
       "      <td>-0.085239</td>\n",
       "      <td>-0.028046</td>\n",
       "      <td>0.137230</td>\n",
       "      <td>0.421741</td>\n",
       "      <td>-0.436757</td>\n",
       "      <td>-0.430696</td>\n",
       "      <td>0.345877</td>\n",
       "      <td>-0.391724</td>\n",
       "      <td>-0.344029</td>\n",
       "      <td>1.000000</td>\n",
       "    </tr>\n",
       "  </tbody>\n",
       "</table>\n",
       "</div>"
      ],
      "text/plain": [
       "               age       sex        cp  trestbps      chol       fbs  \\\n",
       "age       1.000000 -0.098447 -0.068653  0.279351  0.213678  0.121308   \n",
       "sex      -0.098447  1.000000 -0.049353 -0.056769 -0.197912  0.045032   \n",
       "cp       -0.068653 -0.049353  1.000000  0.047608 -0.076904  0.094444   \n",
       "trestbps  0.279351 -0.056769  0.047608  1.000000  0.123174  0.177531   \n",
       "chol      0.213678 -0.197912 -0.076904  0.123174  1.000000  0.013294   \n",
       "fbs       0.121308  0.045032  0.094444  0.177531  0.013294  1.000000   \n",
       "restecg  -0.116211 -0.058196  0.044421 -0.114103 -0.151040 -0.084189   \n",
       "thalach  -0.398522 -0.044020  0.295762 -0.046698 -0.009940 -0.008567   \n",
       "exang     0.096801  0.141664 -0.394280  0.067616  0.067023  0.025665   \n",
       "oldpeak   0.210013  0.096093 -0.149230  0.193216  0.053952  0.005747   \n",
       "slope    -0.168814 -0.030711  0.119717 -0.121475 -0.004038 -0.059894   \n",
       "ca        0.276326  0.118261 -0.181053  0.101389  0.070511  0.137979   \n",
       "thal      0.068001  0.210041 -0.161736  0.062210  0.098803 -0.032019   \n",
       "target   -0.225439 -0.280937  0.433798 -0.144931 -0.085239 -0.028046   \n",
       "\n",
       "           restecg   thalach     exang   oldpeak     slope        ca  \\\n",
       "age      -0.116211 -0.398522  0.096801  0.210013 -0.168814  0.276326   \n",
       "sex      -0.058196 -0.044020  0.141664  0.096093 -0.030711  0.118261   \n",
       "cp        0.044421  0.295762 -0.394280 -0.149230  0.119717 -0.181053   \n",
       "trestbps -0.114103 -0.046698  0.067616  0.193216 -0.121475  0.101389   \n",
       "chol     -0.151040 -0.009940  0.067023  0.053952 -0.004038  0.070511   \n",
       "fbs      -0.084189 -0.008567  0.025665  0.005747 -0.059894  0.137979   \n",
       "restecg   1.000000  0.044123 -0.070733 -0.058770  0.093045 -0.072042   \n",
       "thalach   0.044123  1.000000 -0.378812 -0.344187  0.386784 -0.213177   \n",
       "exang    -0.070733 -0.378812  1.000000  0.288223 -0.257748  0.115739   \n",
       "oldpeak  -0.058770 -0.344187  0.288223  1.000000 -0.577537  0.222682   \n",
       "slope     0.093045  0.386784 -0.257748 -0.577537  1.000000 -0.080155   \n",
       "ca       -0.072042 -0.213177  0.115739  0.222682 -0.080155  1.000000   \n",
       "thal     -0.011981 -0.096439  0.206754  0.210244 -0.104764  0.151832   \n",
       "target    0.137230  0.421741 -0.436757 -0.430696  0.345877 -0.391724   \n",
       "\n",
       "              thal    target  \n",
       "age       0.068001 -0.225439  \n",
       "sex       0.210041 -0.280937  \n",
       "cp       -0.161736  0.433798  \n",
       "trestbps  0.062210 -0.144931  \n",
       "chol      0.098803 -0.085239  \n",
       "fbs      -0.032019 -0.028046  \n",
       "restecg  -0.011981  0.137230  \n",
       "thalach  -0.096439  0.421741  \n",
       "exang     0.206754 -0.436757  \n",
       "oldpeak   0.210244 -0.430696  \n",
       "slope    -0.104764  0.345877  \n",
       "ca        0.151832 -0.391724  \n",
       "thal      1.000000 -0.344029  \n",
       "target   -0.344029  1.000000  "
      ]
     },
     "execution_count": 9,
     "metadata": {},
     "output_type": "execute_result"
    }
   ],
   "source": [
    "data.corr()"
   ]
  },
  {
   "cell_type": "code",
   "execution_count": 10,
   "id": "8444cac3",
   "metadata": {},
   "outputs": [
    {
     "data": {
      "text/plain": [
       "1    165\n",
       "0    138\n",
       "Name: target, dtype: int64"
      ]
     },
     "execution_count": 10,
     "metadata": {},
     "output_type": "execute_result"
    },
    {
     "data": {
      "image/png": "[encoded data removed]",
      "text/plain": [
       "<Figure size 432x288 with 1 Axes>"
      ]
     },
     "metadata": {
      "needs_background": "light"
     },
     "output_type": "display_data"
    }
   ],
   "source": [
    "y = data[\"target\"]\n",
    "sns.countplot(y)\n",
    "data.target.value_counts()\n",
    "# 165 out of 303 have heart problems"
   ]
  },
  {
   "cell_type": "code",
   "execution_count": 11,
   "id": "8b068bce",
   "metadata": {},
   "outputs": [
    {
     "name": "stdout",
     "output_type": "stream",
     "text": [
      "Percentage of patience without heart problems: 45.545\n",
      "Percentage of patience with heart problems: 54.455\n"
     ]
    }
   ],
   "source": [
    "print(\"Percentage of patience without heart problems: \"+str(round(138*100/303,3)))\n",
    "print(\"Percentage of patience with heart problems: \"+str(round(165*100/303,3)))"
   ]
  },
  {
   "cell_type": "code",
   "execution_count": 12,
   "id": "40ac688c",
   "metadata": {},
   "outputs": [
    {
     "data": {
      "text/plain": [
       "<AxesSubplot:xlabel='sex', ylabel='target'>"
      ]
     },
     "execution_count": 12,
     "metadata": {},
     "output_type": "execute_result"
    },
    {
     "data": {
      "image/png": "[encoded data removed]",
      "text/plain": [
       "<Figure size 432x288 with 1 Axes>"
      ]
     },
     "metadata": {
      "needs_background": "light"
     },
     "output_type": "display_data"
    }
   ],
   "source": [
    "sns.barplot(data[\"sex\"],y)"
   ]
  },
  {
   "cell_type": "markdown",
   "id": "6c17f0d6",
   "metadata": {},
   "source": [
    "##### According to the given data women tend to have more heart issues than men."
   ]
  },
  {
   "cell_type": "code",
   "execution_count": 13,
   "id": "09077de8",
   "metadata": {},
   "outputs": [
    {
     "data": {
      "text/plain": [
       "<AxesSubplot:xlabel='cp', ylabel='target'>"
      ]
     },
     "execution_count": 13,
     "metadata": {},
     "output_type": "execute_result"
    },
    {
     "data": {
      "image/png": "[encoded data removed]",
      "text/plain": [
       "<Figure size 432x288 with 1 Axes>"
      ]
     },
     "metadata": {
      "needs_background": "light"
     },
     "output_type": "display_data"
    }
   ],
   "source": [
    "\"\"\"Chest pain vs target variable\"\"\"\n",
    "sns.barplot(data[\"cp\"],y)"
   ]
  },
  {
   "cell_type": "markdown",
   "id": "9e6ab675",
   "metadata": {},
   "source": [
    "##### Clearly ,the ones with typical angina are much less likely to have heart problems."
   ]
  },
  {
   "cell_type": "code",
   "execution_count": 14,
   "id": "0335b9a2",
   "metadata": {},
   "outputs": [
    {
     "data": {
      "text/plain": [
       "<AxesSubplot:xlabel='fbs', ylabel='target'>"
      ]
     },
     "execution_count": 14,
     "metadata": {},
     "output_type": "execute_result"
    },
    {
     "data": {
      "image/png": "[encoded data removed]",
      "text/plain": [
       "<Figure size 432x288 with 1 Axes>"
      ]
     },
     "metadata": {
      "needs_background": "light"
     },
     "output_type": "display_data"
    }
   ],
   "source": [
    "sns.barplot(data[\"fbs\"],y)"
   ]
  },
  {
   "cell_type": "code",
   "execution_count": 15,
   "id": "3b2485d1",
   "metadata": {},
   "outputs": [
    {
     "data": {
      "text/plain": [
       "<AxesSubplot:xlabel='restecg', ylabel='target'>"
      ]
     },
     "execution_count": 15,
     "metadata": {},
     "output_type": "execute_result"
    },
    {
     "data": {
      "image/png": "[encoded data removed]",
      "text/plain": [
       "<Figure size 432x288 with 1 Axes>"
      ]
     },
     "metadata": {
      "needs_background": "light"
     },
     "output_type": "display_data"
    }
   ],
   "source": [
    "sns.barplot(data[\"restecg\"],y)"
   ]
  },
  {
   "cell_type": "markdown",
   "id": "b7b89050",
   "metadata": {},
   "source": [
    "##### People with restecg '1' and '0' are much more likely to have heart issues than with restecg '2'"
   ]
  },
  {
   "cell_type": "code",
   "execution_count": 16,
   "id": "cd9b95e7",
   "metadata": {},
   "outputs": [
    {
     "data": {
      "text/plain": [
       "<AxesSubplot:xlabel='exang', ylabel='target'>"
      ]
     },
     "execution_count": 16,
     "metadata": {},
     "output_type": "execute_result"
    },
    {
     "data": {
      "image/png": "[encoded data removed]",
      "text/plain": [
       "<Figure size 432x288 with 1 Axes>"
      ]
     },
     "metadata": {
      "needs_background": "light"
     },
     "output_type": "display_data"
    }
   ],
   "source": [
    "sns.barplot(data[\"exang\"],y)"
   ]
  },
  {
   "cell_type": "markdown",
   "id": "c9008734",
   "metadata": {},
   "source": [
    "##### People with exercise induced angina are much less likely to have heart problems"
   ]
  },
  {
   "cell_type": "code",
   "execution_count": 17,
   "id": "be0a997e",
   "metadata": {},
   "outputs": [
    {
     "data": {
      "text/plain": [
       "<AxesSubplot:xlabel='slope', ylabel='target'>"
      ]
     },
     "execution_count": 17,
     "metadata": {},
     "output_type": "execute_result"
    },
    {
     "data": {
      "image/png": "[encoded data removed]",
      "text/plain": [
       "<Figure size 432x288 with 1 Axes>"
      ]
     },
     "metadata": {
      "needs_background": "light"
     },
     "output_type": "display_data"
    }
   ],
   "source": [
    "sns.barplot(data[\"slope\"],y)"
   ]
  },
  {
   "cell_type": "markdown",
   "id": "f4a59372",
   "metadata": {},
   "source": [
    "##### We observe, that Slope '2' causes heart pain much more than Slope '0' and '1'"
   ]
  },
  {
   "cell_type": "code",
   "execution_count": 18,
   "id": "25d3dd13",
   "metadata": {},
   "outputs": [
    {
     "data": {
      "text/plain": [
       "<AxesSubplot:xlabel='ca', ylabel='target'>"
      ]
     },
     "execution_count": 18,
     "metadata": {},
     "output_type": "execute_result"
    },
    {
     "data": {
      "image/png": "[encoded data removed]",
      "text/plain": [
       "<Figure size 432x288 with 1 Axes>"
      ]
     },
     "metadata": {
      "needs_background": "light"
     },
     "output_type": "display_data"
    }
   ],
   "source": [
    "sns.barplot(data[\"ca\"],y)"
   ]
  },
  {
   "cell_type": "markdown",
   "id": "646d3f73",
   "metadata": {},
   "source": [
    "##### ca=4 and ca=0 have astonishingly large number of heart patients"
   ]
  },
  {
   "cell_type": "code",
   "execution_count": 19,
   "id": "8d899208",
   "metadata": {},
   "outputs": [
    {
     "data": {
      "text/plain": [
       "<AxesSubplot:xlabel='thal', ylabel='target'>"
      ]
     },
     "execution_count": 19,
     "metadata": {},
     "output_type": "execute_result"
    },
    {
     "data": {
      "image/png": "[encoded data removed]",
      "text/plain": [
       "<Figure size 432x288 with 1 Axes>"
      ]
     },
     "metadata": {
      "needs_background": "light"
     },
     "output_type": "display_data"
    }
   ],
   "source": [
    "sns.barplot(data[\"thal\"],y)"
   ]
  },
  {
   "cell_type": "markdown",
   "id": "985680ff",
   "metadata": {},
   "source": [
    "##### People  with thal= 2 has a higher rate of heart issues"
   ]
  },
  {
   "cell_type": "code",
   "execution_count": 20,
   "id": "d9e96db2",
   "metadata": {},
   "outputs": [],
   "source": [
    "from sklearn.model_selection import train_test_split\n",
    "\n",
    "predictors = data.drop(\"target\",axis=1)\n",
    "target = data[\"target\"]\n",
    "\n",
    "# Splitting the data into training and testing...\n",
    "S_train,S_test,Y_train,Y_test = train_test_split(predictors,target,test_size=0.20,random_state=0)"
   ]
  },
  {
   "cell_type": "code",
   "execution_count": 21,
   "id": "3a2e0ba3",
   "metadata": {},
   "outputs": [
    {
     "data": {
      "text/plain": [
       "(242, 13)"
      ]
     },
     "execution_count": 21,
     "metadata": {},
     "output_type": "execute_result"
    }
   ],
   "source": [
    "S_train.shape"
   ]
  },
  {
   "cell_type": "code",
   "execution_count": 22,
   "id": "e5dd0454",
   "metadata": {},
   "outputs": [
    {
     "data": {
      "text/plain": [
       "(242,)"
      ]
     },
     "execution_count": 22,
     "metadata": {},
     "output_type": "execute_result"
    }
   ],
   "source": [
    "Y_train.shape"
   ]
  },
  {
   "cell_type": "code",
   "execution_count": 23,
   "id": "7a4d430b",
   "metadata": {},
   "outputs": [],
   "source": [
    "from sklearn.metrics import accuracy_score"
   ]
  },
  {
   "cell_type": "code",
   "execution_count": 24,
   "id": "961b7eea",
   "metadata": {},
   "outputs": [],
   "source": [
    "from sklearn.linear_model import LogisticRegression\n",
    "\n",
    "lr = LogisticRegression()\n",
    "\n",
    "lr.fit(S_train,Y_train)\n",
    "\n",
    "Y_pred_lr = lr.predict(S_test)"
   ]
  },
  {
   "cell_type": "code",
   "execution_count": 25,
   "id": "95d6ee91",
   "metadata": {},
   "outputs": [
    {
     "name": "stdout",
     "output_type": "stream",
     "text": [
      "The accuracy score achieved using Logistic Regression is: 85.25 %\n"
     ]
    }
   ],
   "source": [
    "score_lr = round(accuracy_score(Y_pred_lr,Y_test)*100,2)\n",
    "\n",
    "print(\"The accuracy score achieved using Logistic Regression is: \"+str(score_lr)+\" %\")"
   ]
  },
  {
   "cell_type": "code",
   "execution_count": 26,
   "id": "8243e3e6",
   "metadata": {},
   "outputs": [],
   "source": [
    "from sklearn.naive_bayes import GaussianNB\n",
    "\n",
    "nb = GaussianNB()\n",
    "\n",
    "nb.fit(S_train,Y_train)\n",
    "\n",
    "Y_pred_nb = nb.predict(S_test)"
   ]
  },
  {
   "cell_type": "code",
   "execution_count": 27,
   "id": "c56e82c1",
   "metadata": {},
   "outputs": [
    {
     "name": "stdout",
     "output_type": "stream",
     "text": [
      "The accuracy score achieved using Naive Bayes is: 85.25 %\n"
     ]
    }
   ],
   "source": [
    "score_nb = round(accuracy_score(Y_pred_nb,Y_test)*100,2)\n",
    "\n",
    "print(\"The accuracy score achieved using Naive Bayes is: \"+str(score_nb)+\" %\")"
   ]
  },
  {
   "cell_type": "code",
   "execution_count": 28,
   "id": "5a1a5f2b",
   "metadata": {},
   "outputs": [],
   "source": [
    "from sklearn import svm\n",
    "\n",
    "sv = svm.SVC(kernel='linear')\n",
    "\n",
    "sv.fit(S_train, Y_train)\n",
    "\n",
    "Y_pred_svm = sv.predict(S_test)"
   ]
  },
  {
   "cell_type": "code",
   "execution_count": 29,
   "id": "73d257c7",
   "metadata": {},
   "outputs": [
    {
     "name": "stdout",
     "output_type": "stream",
     "text": [
      "The accuracy score achieved using SVM is: 81.97 %\n"
     ]
    }
   ],
   "source": [
    "score_svm = round(accuracy_score(Y_pred_svm,Y_test)*100,2)\n",
    "\n",
    "print(\"The accuracy score achieved using SVM is: \"+str(score_svm)+\" %\")"
   ]
  },
  {
   "cell_type": "code",
   "execution_count": 30,
   "id": "6b9c4e25",
   "metadata": {},
   "outputs": [],
   "source": [
    "from sklearn.neighbors import KNeighborsClassifier\n",
    "\n",
    "knn = KNeighborsClassifier(n_neighbors=7)\n",
    "knn.fit(S_train,Y_train)\n",
    "Y_pred_knn=knn.predict(S_test)"
   ]
  },
  {
   "cell_type": "code",
   "execution_count": 31,
   "id": "15d5add8",
   "metadata": {},
   "outputs": [
    {
     "name": "stdout",
     "output_type": "stream",
     "text": [
      "The accuracy score achieved using KNN is: 67.21 %\n"
     ]
    }
   ],
   "source": [
    "score_knn = round(accuracy_score(Y_pred_knn,Y_test)*100,2)\n",
    "\n",
    "print(\"The accuracy score achieved using KNN is: \"+str(score_knn)+\" %\")"
   ]
  },
  {
   "cell_type": "code",
   "execution_count": 32,
   "id": "3c0d29b9",
   "metadata": {},
   "outputs": [],
   "source": [
    "from sklearn.tree import DecisionTreeClassifier\n",
    "dt = DecisionTreeClassifier()\n",
    "dt.fit(S_train,Y_train)\n",
    "Y_pred_dt = dt.predict(S_test)"
   ]
  },
  {
   "cell_type": "code",
   "execution_count": 33,
   "id": "bc24e44e",
   "metadata": {},
   "outputs": [
    {
     "name": "stdout",
     "output_type": "stream",
     "text": [
      "The accuracy score achieved using Decision Tree is: 78.69 %\n"
     ]
    }
   ],
   "source": [
    "score_dt = round(accuracy_score(Y_pred_dt,Y_test)*100,2)\n",
    "\n",
    "print(\"The accuracy score achieved using Decision Tree is: \"+str(score_dt)+\" %\")"
   ]
  },
  {
   "cell_type": "code",
   "execution_count": 34,
   "id": "fc01cda9",
   "metadata": {},
   "outputs": [],
   "source": [
    "from sklearn.ensemble import RandomForestClassifier\n",
    "\n",
    "rf = RandomForestClassifier()\n",
    "rf.fit(S_train,Y_train)\n",
    "Y_pred_rf = rf.predict(S_test)\n"
   ]
  },
  {
   "cell_type": "code",
   "execution_count": 35,
   "id": "edbadf08",
   "metadata": {},
   "outputs": [
    {
     "name": "stdout",
     "output_type": "stream",
     "text": [
      "The accuracy score achieved using Random Forest is: 88.52 %\n"
     ]
    }
   ],
   "source": [
    "score_rf = round(accuracy_score(Y_pred_rf,Y_test)*100,2)\n",
    "\n",
    "print(\"The accuracy score achieved using Random Forest is: \"+str(score_rf)+\" %\")"
   ]
  },
  {
   "cell_type": "code",
   "execution_count": 36,
   "id": "a5bfecfd",
   "metadata": {},
   "outputs": [],
   "source": [
    "from sklearn.ensemble import BaggingClassifier\n",
    "from sklearn import tree\n",
    "bg = BaggingClassifier()\n",
    "bg.fit(S_train, Y_train)\n",
    "Y_pred_bg = bg.predict(S_test)"
   ]
  },
  {
   "cell_type": "code",
   "execution_count": 37,
   "id": "512e65d6",
   "metadata": {},
   "outputs": [
    {
     "name": "stdout",
     "output_type": "stream",
     "text": [
      "The accuracy score achieved using Bagging is: 86.89 %\n"
     ]
    }
   ],
   "source": [
    "score_bg = round(accuracy_score(Y_pred_bg,Y_test)*100,2)\n",
    "\n",
    "print(\"The accuracy score achieved using Bagging is: \"+str(score_bg)+\" %\")"
   ]
  },
  {
   "cell_type": "code",
   "execution_count": 38,
   "id": "0bcf54f2",
   "metadata": {},
   "outputs": [],
   "source": [
    "from sklearn.ensemble import AdaBoostClassifier\n",
    "ab = AdaBoostClassifier()\n",
    "ab.fit(S_train, Y_train)\n",
    "Y_pred_ab = ab.predict(S_test)"
   ]
  },
  {
   "cell_type": "code",
   "execution_count": 39,
   "id": "710433ec",
   "metadata": {},
   "outputs": [
    {
     "name": "stdout",
     "output_type": "stream",
     "text": [
      "The accuracy score achieved using AdaBoostClassifier is: 90.16 %\n"
     ]
    }
   ],
   "source": [
    "score_ab = round(accuracy_score(Y_pred_ab,Y_test)*100,2)\n",
    "\n",
    "print(\"The accuracy score achieved using AdaBoostClassifier is: \"+str(score_ab)+\" %\")"
   ]
  },
  {
   "cell_type": "code",
   "execution_count": 40,
   "id": "f8bcd22b",
   "metadata": {},
   "outputs": [],
   "source": [
    "from sklearn.ensemble import GradientBoostingClassifier\n",
    "gb= GradientBoostingClassifier(learning_rate=0.01,random_state=1)\n",
    "gb.fit(S_train, Y_train)\n",
    "Y_pred_gb = gb.predict(S_test)"
   ]
  },
  {
   "cell_type": "code",
   "execution_count": 41,
   "id": "3ce195d6",
   "metadata": {},
   "outputs": [
    {
     "name": "stdout",
     "output_type": "stream",
     "text": [
      "The accuracy score achieved GradientBoostingClassfier is: 83.61 %\n"
     ]
    }
   ],
   "source": [
    "score_gb = round(accuracy_score(Y_pred_gb,Y_test)*100,2)\n",
    "\n",
    "print(\"The accuracy score achieved GradientBoostingClassfier is: \"+str(score_gb)+\" %\")"
   ]
  },
  {
   "cell_type": "code",
   "execution_count": 42,
   "id": "498ea1eb",
   "metadata": {},
   "outputs": [],
   "source": [
    "from tensorflow.keras.models import Sequential\n",
    "from tensorflow.keras.layers import Dense,Dropout"
   ]
  },
  {
   "cell_type": "code",
   "execution_count": 43,
   "id": "8d2941b6",
   "metadata": {},
   "outputs": [],
   "source": [
    "def build_model_1():\n",
    "    model = Sequential()\n",
    "    model.add(Dense(11,activation='swish',input_dim=13))\n",
    "    model.add(Dense(1,activation='sigmoid'))\n",
    "\n",
    "    model.compile(loss='binary_crossentropy',optimizer='adam',metrics=['accuracy'])\n",
    "    return model"
   ]
  },
  {
   "cell_type": "code",
   "execution_count": 44,
   "id": "a930aa7f",
   "metadata": {},
   "outputs": [],
   "source": [
    "S_Net_1 = build_model_1()"
   ]
  },
  {
   "cell_type": "code",
   "execution_count": 45,
   "id": "f875dfef",
   "metadata": {},
   "outputs": [
    {
     "name": "stdout",
     "output_type": "stream",
     "text": [
      "Epoch 1/300\n",
      "8/8 [==============================] - 2s 6ms/step - loss: 41.4685 - accuracy: 0.5413\n",
      "Epoch 2/300\n",
      "8/8 [==============================] - 0s 3ms/step - loss: 33.3936 - accuracy: 0.5413\n",
      "Epoch 3/300\n",
      "8/8 [==============================] - 0s 5ms/step - loss: 25.1365 - accuracy: 0.5413\n",
      "Epoch 4/300\n",
      "8/8 [==============================] - 0s 7ms/step - loss: 16.6340 - accuracy: 0.5413\n",
      "Epoch 5/300\n",
      "8/8 [==============================] - 0s 8ms/step - loss: 8.5990 - accuracy: 0.5372\n",
      "Epoch 6/300\n",
      "8/8 [==============================] - 0s 11ms/step - loss: 4.6673 - accuracy: 0.4669\n",
      "Epoch 7/300\n",
      "8/8 [==============================] - 0s 9ms/step - loss: 4.9027 - accuracy: 0.4587\n",
      "Epoch 8/300\n",
      "8/8 [==============================] - 0s 6ms/step - loss: 4.2344 - accuracy: 0.4669\n",
      "Epoch 9/300\n",
      "8/8 [==============================] - 0s 6ms/step - loss: 3.8449 - accuracy: 0.5041\n",
      "Epoch 10/300\n",
      "8/8 [==============================] - 0s 6ms/step - loss: 3.5533 - accuracy: 0.5124\n",
      "Epoch 11/300\n",
      "8/8 [==============================] - 0s 6ms/step - loss: 3.2963 - accuracy: 0.4917\n",
      "Epoch 12/300\n",
      "8/8 [==============================] - 0s 7ms/step - loss: 3.1354 - accuracy: 0.4835\n",
      "Epoch 13/300\n",
      "8/8 [==============================] - 0s 5ms/step - loss: 2.9686 - accuracy: 0.4752\n",
      "Epoch 14/300\n",
      "8/8 [==============================] - 0s 8ms/step - loss: 2.8246 - accuracy: 0.4752\n",
      "Epoch 15/300\n",
      "8/8 [==============================] - 0s 5ms/step - loss: 2.6928 - accuracy: 0.4669\n",
      "Epoch 16/300\n",
      "8/8 [==============================] - 0s 7ms/step - loss: 2.5795 - accuracy: 0.4545\n",
      "Epoch 17/300\n",
      "8/8 [==============================] - 0s 10ms/step - loss: 2.4511 - accuracy: 0.4587\n",
      "Epoch 18/300\n",
      "8/8 [==============================] - 0s 10ms/step - loss: 2.3300 - accuracy: 0.4504\n",
      "Epoch 19/300\n",
      "8/8 [==============================] - 0s 11ms/step - loss: 2.2186 - accuracy: 0.4504\n",
      "Epoch 20/300\n",
      "8/8 [==============================] - 0s 12ms/step - loss: 2.0996 - accuracy: 0.4545\n",
      "Epoch 21/300\n",
      "8/8 [==============================] - 0s 10ms/step - loss: 1.9845 - accuracy: 0.4545\n",
      "Epoch 22/300\n",
      "8/8 [==============================] - 0s 11ms/step - loss: 1.8602 - accuracy: 0.4711\n",
      "Epoch 23/300\n",
      "8/8 [==============================] - 0s 11ms/step - loss: 1.7551 - accuracy: 0.4752\n",
      "Epoch 24/300\n",
      "8/8 [==============================] - 0s 12ms/step - loss: 1.6647 - accuracy: 0.4793\n",
      "Epoch 25/300\n",
      "8/8 [==============================] - 0s 9ms/step - loss: 1.5418 - accuracy: 0.4959\n",
      "Epoch 26/300\n",
      "8/8 [==============================] - 0s 8ms/step - loss: 1.4202 - accuracy: 0.5372\n",
      "Epoch 27/300\n",
      "8/8 [==============================] - 0s 6ms/step - loss: 1.3803 - accuracy: 0.5331\n",
      "Epoch 28/300\n",
      "8/8 [==============================] - 0s 14ms/step - loss: 1.2781 - accuracy: 0.5000\n",
      "Epoch 29/300\n",
      "8/8 [==============================] - 0s 8ms/step - loss: 1.1937 - accuracy: 0.5579\n",
      "Epoch 30/300\n",
      "8/8 [==============================] - 0s 11ms/step - loss: 1.0864 - accuracy: 0.5413\n",
      "Epoch 31/300\n",
      "8/8 [==============================] - 0s 13ms/step - loss: 1.0260 - accuracy: 0.5702\n",
      "Epoch 32/300\n",
      "8/8 [==============================] - 0s 11ms/step - loss: 0.9654 - accuracy: 0.5826\n",
      "Epoch 33/300\n",
      "8/8 [==============================] - 0s 9ms/step - loss: 0.8898 - accuracy: 0.6074\n",
      "Epoch 34/300\n",
      "8/8 [==============================] - 0s 10ms/step - loss: 0.8180 - accuracy: 0.6322\n",
      "Epoch 35/300\n",
      "8/8 [==============================] - 0s 10ms/step - loss: 0.7779 - accuracy: 0.6529\n",
      "Epoch 36/300\n",
      "8/8 [==============================] - 0s 12ms/step - loss: 0.7330 - accuracy: 0.6736\n",
      "Epoch 37/300\n",
      "8/8 [==============================] - 0s 9ms/step - loss: 0.7339 - accuracy: 0.6777\n",
      "Epoch 38/300\n",
      "8/8 [==============================] - 0s 11ms/step - loss: 0.6905 - accuracy: 0.6818\n",
      "Epoch 39/300\n",
      "8/8 [==============================] - 0s 12ms/step - loss: 0.6448 - accuracy: 0.7066\n",
      "Epoch 40/300\n",
      "8/8 [==============================] - 0s 12ms/step - loss: 0.6109 - accuracy: 0.7231\n",
      "Epoch 41/300\n",
      "8/8 [==============================] - 0s 11ms/step - loss: 0.5889 - accuracy: 0.7438\n",
      "Epoch 42/300\n",
      "8/8 [==============================] - 0s 8ms/step - loss: 0.5794 - accuracy: 0.7479\n",
      "Epoch 43/300\n",
      "8/8 [==============================] - 0s 11ms/step - loss: 0.5702 - accuracy: 0.7231\n",
      "Epoch 44/300\n",
      "8/8 [==============================] - 0s 8ms/step - loss: 0.5430 - accuracy: 0.7686\n",
      "Epoch 45/300\n",
      "8/8 [==============================] - 0s 8ms/step - loss: 0.5484 - accuracy: 0.7397\n",
      "Epoch 46/300\n",
      "8/8 [==============================] - 0s 8ms/step - loss: 0.5157 - accuracy: 0.7727\n",
      "Epoch 47/300\n",
      "8/8 [==============================] - 0s 6ms/step - loss: 0.5117 - accuracy: 0.7686\n",
      "Epoch 48/300\n",
      "8/8 [==============================] - 0s 12ms/step - loss: 0.4818 - accuracy: 0.7975\n",
      "Epoch 49/300\n",
      "8/8 [==============================] - 0s 10ms/step - loss: 0.4875 - accuracy: 0.7893\n",
      "Epoch 50/300\n",
      "8/8 [==============================] - 0s 12ms/step - loss: 0.4715 - accuracy: 0.7975\n",
      "Epoch 51/300\n",
      "8/8 [==============================] - 0s 12ms/step - loss: 0.5390 - accuracy: 0.7686\n",
      "Epoch 52/300\n",
      "8/8 [==============================] - 0s 12ms/step - loss: 0.4639 - accuracy: 0.8099\n",
      "Epoch 53/300\n",
      "8/8 [==============================] - 0s 11ms/step - loss: 0.4674 - accuracy: 0.8099\n",
      "Epoch 54/300\n",
      "8/8 [==============================] - 0s 10ms/step - loss: 0.4557 - accuracy: 0.8140\n",
      "Epoch 55/300\n",
      "8/8 [==============================] - 0s 14ms/step - loss: 0.4596 - accuracy: 0.7934\n",
      "Epoch 56/300\n",
      "8/8 [==============================] - 0s 14ms/step - loss: 0.4685 - accuracy: 0.7975\n",
      "Epoch 57/300\n",
      "8/8 [==============================] - 0s 11ms/step - loss: 0.4477 - accuracy: 0.8058\n",
      "Epoch 58/300\n",
      "8/8 [==============================] - 0s 10ms/step - loss: 0.4481 - accuracy: 0.7975\n",
      "Epoch 59/300\n",
      "8/8 [==============================] - 0s 11ms/step - loss: 0.4413 - accuracy: 0.8140\n",
      "Epoch 60/300\n",
      "8/8 [==============================] - 0s 12ms/step - loss: 0.4328 - accuracy: 0.8140\n",
      "Epoch 61/300\n",
      "8/8 [==============================] - 0s 11ms/step - loss: 0.4274 - accuracy: 0.8264\n",
      "Epoch 62/300\n",
      "8/8 [==============================] - 0s 11ms/step - loss: 0.4236 - accuracy: 0.8058\n",
      "Epoch 63/300\n",
      "8/8 [==============================] - 0s 10ms/step - loss: 0.4214 - accuracy: 0.8264\n",
      "Epoch 64/300\n",
      "8/8 [==============================] - 0s 8ms/step - loss: 0.4294 - accuracy: 0.8099\n",
      "Epoch 65/300\n",
      "8/8 [==============================] - 0s 10ms/step - loss: 0.4198 - accuracy: 0.8058\n",
      "Epoch 66/300\n",
      "8/8 [==============================] - 0s 9ms/step - loss: 0.4155 - accuracy: 0.8306\n",
      "Epoch 67/300\n",
      "8/8 [==============================] - 0s 7ms/step - loss: 0.4181 - accuracy: 0.8017\n",
      "Epoch 68/300\n",
      "8/8 [==============================] - 0s 6ms/step - loss: 0.4258 - accuracy: 0.8058\n",
      "Epoch 69/300\n",
      "8/8 [==============================] - 0s 9ms/step - loss: 0.4217 - accuracy: 0.8140\n",
      "Epoch 70/300\n",
      "8/8 [==============================] - 0s 12ms/step - loss: 0.4258 - accuracy: 0.8058\n",
      "Epoch 71/300\n",
      "8/8 [==============================] - 0s 11ms/step - loss: 0.4156 - accuracy: 0.8306\n",
      "Epoch 72/300\n",
      "8/8 [==============================] - 0s 12ms/step - loss: 0.4016 - accuracy: 0.8347\n",
      "Epoch 73/300\n",
      "8/8 [==============================] - 0s 12ms/step - loss: 0.4040 - accuracy: 0.8430\n",
      "Epoch 74/300\n",
      "8/8 [==============================] - 0s 10ms/step - loss: 0.4031 - accuracy: 0.8512\n",
      "Epoch 75/300\n",
      "8/8 [==============================] - 0s 12ms/step - loss: 0.3994 - accuracy: 0.8264\n",
      "Epoch 76/300\n",
      "8/8 [==============================] - 0s 9ms/step - loss: 0.4001 - accuracy: 0.8388\n",
      "Epoch 77/300\n",
      "8/8 [==============================] - 0s 11ms/step - loss: 0.3984 - accuracy: 0.8347\n",
      "Epoch 78/300\n",
      "8/8 [==============================] - 0s 10ms/step - loss: 0.3963 - accuracy: 0.8347\n",
      "Epoch 79/300\n",
      "8/8 [==============================] - 0s 12ms/step - loss: 0.4018 - accuracy: 0.8306\n",
      "Epoch 80/300\n",
      "8/8 [==============================] - 0s 12ms/step - loss: 0.3937 - accuracy: 0.8388\n",
      "Epoch 81/300\n",
      "8/8 [==============================] - 0s 10ms/step - loss: 0.4138 - accuracy: 0.8223\n",
      "Epoch 82/300\n",
      "8/8 [==============================] - 0s 11ms/step - loss: 0.4054 - accuracy: 0.8264\n",
      "Epoch 83/300\n",
      "8/8 [==============================] - 0s 11ms/step - loss: 0.4090 - accuracy: 0.8140\n",
      "Epoch 84/300\n"
     ]
    },
    {
     "name": "stdout",
     "output_type": "stream",
     "text": [
      "8/8 [==============================] - 0s 11ms/step - loss: 0.3940 - accuracy: 0.8471\n",
      "Epoch 85/300\n",
      "8/8 [==============================] - 0s 11ms/step - loss: 0.3946 - accuracy: 0.8264\n",
      "Epoch 86/300\n",
      "8/8 [==============================] - 0s 7ms/step - loss: 0.3875 - accuracy: 0.8595\n",
      "Epoch 87/300\n",
      "8/8 [==============================] - 0s 8ms/step - loss: 0.4246 - accuracy: 0.8058\n",
      "Epoch 88/300\n",
      "8/8 [==============================] - 0s 6ms/step - loss: 0.4265 - accuracy: 0.8140\n",
      "Epoch 89/300\n",
      "8/8 [==============================] - 0s 6ms/step - loss: 0.4013 - accuracy: 0.8264\n",
      "Epoch 90/300\n",
      "8/8 [==============================] - 0s 3ms/step - loss: 0.3966 - accuracy: 0.8182\n",
      "Epoch 91/300\n",
      "8/8 [==============================] - 0s 4ms/step - loss: 0.3904 - accuracy: 0.8182\n",
      "Epoch 92/300\n",
      "8/8 [==============================] - 0s 4ms/step - loss: 0.4027 - accuracy: 0.8182\n",
      "Epoch 93/300\n",
      "8/8 [==============================] - 0s 5ms/step - loss: 0.4004 - accuracy: 0.8140\n",
      "Epoch 94/300\n",
      "8/8 [==============================] - 0s 5ms/step - loss: 0.3909 - accuracy: 0.8140\n",
      "Epoch 95/300\n",
      "8/8 [==============================] - 0s 6ms/step - loss: 0.3868 - accuracy: 0.8347\n",
      "Epoch 96/300\n",
      "8/8 [==============================] - 0s 5ms/step - loss: 0.3866 - accuracy: 0.8471\n",
      "Epoch 97/300\n",
      "8/8 [==============================] - 0s 10ms/step - loss: 0.3907 - accuracy: 0.8182\n",
      "Epoch 98/300\n",
      "8/8 [==============================] - 0s 8ms/step - loss: 0.3952 - accuracy: 0.8347\n",
      "Epoch 99/300\n",
      "8/8 [==============================] - 0s 9ms/step - loss: 0.3958 - accuracy: 0.8471\n",
      "Epoch 100/300\n",
      "8/8 [==============================] - 0s 9ms/step - loss: 0.3989 - accuracy: 0.8223\n",
      "Epoch 101/300\n",
      "8/8 [==============================] - 0s 9ms/step - loss: 0.3948 - accuracy: 0.8182\n",
      "Epoch 102/300\n",
      "8/8 [==============================] - 0s 8ms/step - loss: 0.4093 - accuracy: 0.8017\n",
      "Epoch 103/300\n",
      "8/8 [==============================] - 0s 8ms/step - loss: 0.4052 - accuracy: 0.8306\n",
      "Epoch 104/300\n",
      "8/8 [==============================] - 0s 8ms/step - loss: 0.4029 - accuracy: 0.8223\n",
      "Epoch 105/300\n",
      "8/8 [==============================] - 0s 7ms/step - loss: 0.4178 - accuracy: 0.7934\n",
      "Epoch 106/300\n",
      "8/8 [==============================] - 0s 10ms/step - loss: 0.3759 - accuracy: 0.8554\n",
      "Epoch 107/300\n",
      "8/8 [==============================] - 0s 8ms/step - loss: 0.3988 - accuracy: 0.8140\n",
      "Epoch 108/300\n",
      "8/8 [==============================] - 0s 7ms/step - loss: 0.4182 - accuracy: 0.8058\n",
      "Epoch 109/300\n",
      "8/8 [==============================] - 0s 10ms/step - loss: 0.3982 - accuracy: 0.8430\n",
      "Epoch 110/300\n",
      "8/8 [==============================] - 0s 7ms/step - loss: 0.3904 - accuracy: 0.8223\n",
      "Epoch 111/300\n",
      "8/8 [==============================] - 0s 7ms/step - loss: 0.3928 - accuracy: 0.8347\n",
      "Epoch 112/300\n",
      "8/8 [==============================] - 0s 8ms/step - loss: 0.3897 - accuracy: 0.8182\n",
      "Epoch 113/300\n",
      "8/8 [==============================] - 0s 6ms/step - loss: 0.3885 - accuracy: 0.8512\n",
      "Epoch 114/300\n",
      "8/8 [==============================] - 0s 10ms/step - loss: 0.3787 - accuracy: 0.8388\n",
      "Epoch 115/300\n",
      "8/8 [==============================] - 0s 5ms/step - loss: 0.3783 - accuracy: 0.8636\n",
      "Epoch 116/300\n",
      "8/8 [==============================] - 0s 1ms/step - loss: 0.3850 - accuracy: 0.8430\n",
      "Epoch 117/300\n",
      "8/8 [==============================] - 0s 2ms/step - loss: 0.3848 - accuracy: 0.8430\n",
      "Epoch 118/300\n",
      "8/8 [==============================] - 0s 2ms/step - loss: 0.3919 - accuracy: 0.8430\n",
      "Epoch 119/300\n",
      "8/8 [==============================] - 0s 2ms/step - loss: 0.4060 - accuracy: 0.8223\n",
      "Epoch 120/300\n",
      "8/8 [==============================] - 0s 2ms/step - loss: 0.3997 - accuracy: 0.8223\n",
      "Epoch 121/300\n",
      "8/8 [==============================] - 0s 3ms/step - loss: 0.3807 - accuracy: 0.8223\n",
      "Epoch 122/300\n",
      "8/8 [==============================] - 0s 1ms/step - loss: 0.3947 - accuracy: 0.8182\n",
      "Epoch 123/300\n",
      "8/8 [==============================] - 0s 2ms/step - loss: 0.4158 - accuracy: 0.8058\n",
      "Epoch 124/300\n",
      "8/8 [==============================] - 0s 3ms/step - loss: 0.4053 - accuracy: 0.8017\n",
      "Epoch 125/300\n",
      "8/8 [==============================] - 0s 3ms/step - loss: 0.3930 - accuracy: 0.8347\n",
      "Epoch 126/300\n",
      "8/8 [==============================] - 0s 1ms/step - loss: 0.3728 - accuracy: 0.8512\n",
      "Epoch 127/300\n",
      "8/8 [==============================] - 0s 2ms/step - loss: 0.3928 - accuracy: 0.8182\n",
      "Epoch 128/300\n",
      "8/8 [==============================] - 0s 2ms/step - loss: 0.3830 - accuracy: 0.8017\n",
      "Epoch 129/300\n",
      "8/8 [==============================] - 0s 3ms/step - loss: 0.4066 - accuracy: 0.8017\n",
      "Epoch 130/300\n",
      "8/8 [==============================] - 0s 4ms/step - loss: 0.3800 - accuracy: 0.8347\n",
      "Epoch 131/300\n",
      "8/8 [==============================] - 0s 4ms/step - loss: 0.4045 - accuracy: 0.8017\n",
      "Epoch 132/300\n",
      "8/8 [==============================] - 0s 4ms/step - loss: 0.4207 - accuracy: 0.8058\n",
      "Epoch 133/300\n",
      "8/8 [==============================] - 0s 3ms/step - loss: 0.3728 - accuracy: 0.8554\n",
      "Epoch 134/300\n",
      "8/8 [==============================] - 0s 4ms/step - loss: 0.3862 - accuracy: 0.8430\n",
      "Epoch 135/300\n",
      "8/8 [==============================] - 0s 3ms/step - loss: 0.3797 - accuracy: 0.8388\n",
      "Epoch 136/300\n",
      "8/8 [==============================] - 0s 3ms/step - loss: 0.3709 - accuracy: 0.8430\n",
      "Epoch 137/300\n",
      "8/8 [==============================] - 0s 3ms/step - loss: 0.3682 - accuracy: 0.8595\n",
      "Epoch 138/300\n",
      "8/8 [==============================] - 0s 4ms/step - loss: 0.3774 - accuracy: 0.8471\n",
      "Epoch 139/300\n",
      "8/8 [==============================] - 0s 4ms/step - loss: 0.3721 - accuracy: 0.8595\n",
      "Epoch 140/300\n",
      "8/8 [==============================] - 0s 4ms/step - loss: 0.3843 - accuracy: 0.8430\n",
      "Epoch 141/300\n",
      "8/8 [==============================] - 0s 2ms/step - loss: 0.3910 - accuracy: 0.8264\n",
      "Epoch 142/300\n",
      "8/8 [==============================] - 0s 3ms/step - loss: 0.3995 - accuracy: 0.8306\n",
      "Epoch 143/300\n",
      "8/8 [==============================] - 0s 3ms/step - loss: 0.3797 - accuracy: 0.8388\n",
      "Epoch 144/300\n",
      "8/8 [==============================] - 0s 2ms/step - loss: 0.3807 - accuracy: 0.8223\n",
      "Epoch 145/300\n",
      "8/8 [==============================] - 0s 3ms/step - loss: 0.3828 - accuracy: 0.8471\n",
      "Epoch 146/300\n",
      "8/8 [==============================] - 0s 4ms/step - loss: 0.3801 - accuracy: 0.8471\n",
      "Epoch 147/300\n",
      "8/8 [==============================] - 0s 4ms/step - loss: 0.3776 - accuracy: 0.8264\n",
      "Epoch 148/300\n",
      "8/8 [==============================] - 0s 3ms/step - loss: 0.3881 - accuracy: 0.8430\n",
      "Epoch 149/300\n",
      "8/8 [==============================] - 0s 3ms/step - loss: 0.3762 - accuracy: 0.8512\n",
      "Epoch 150/300\n",
      "8/8 [==============================] - 0s 3ms/step - loss: 0.3847 - accuracy: 0.8388\n",
      "Epoch 151/300\n",
      "8/8 [==============================] - 0s 3ms/step - loss: 0.3744 - accuracy: 0.8554\n",
      "Epoch 152/300\n",
      "8/8 [==============================] - 0s 4ms/step - loss: 0.3681 - accuracy: 0.8512\n",
      "Epoch 153/300\n",
      "8/8 [==============================] - 0s 4ms/step - loss: 0.3692 - accuracy: 0.8554\n",
      "Epoch 154/300\n",
      "8/8 [==============================] - 0s 3ms/step - loss: 0.3680 - accuracy: 0.8471\n",
      "Epoch 155/300\n",
      "8/8 [==============================] - 0s 2ms/step - loss: 0.3859 - accuracy: 0.8512\n",
      "Epoch 156/300\n",
      "8/8 [==============================] - 0s 4ms/step - loss: 0.3663 - accuracy: 0.8595\n",
      "Epoch 157/300\n",
      "8/8 [==============================] - 0s 3ms/step - loss: 0.3689 - accuracy: 0.8554\n",
      "Epoch 158/300\n",
      "8/8 [==============================] - 0s 2ms/step - loss: 0.3664 - accuracy: 0.8595\n",
      "Epoch 159/300\n",
      "8/8 [==============================] - 0s 4ms/step - loss: 0.3724 - accuracy: 0.8554\n",
      "Epoch 160/300\n",
      "8/8 [==============================] - 0s 4ms/step - loss: 0.3764 - accuracy: 0.8264\n",
      "Epoch 161/300\n",
      "8/8 [==============================] - 0s 2ms/step - loss: 0.3733 - accuracy: 0.8471\n",
      "Epoch 162/300\n",
      "8/8 [==============================] - 0s 4ms/step - loss: 0.3957 - accuracy: 0.8264\n",
      "Epoch 163/300\n",
      "8/8 [==============================] - 0s 3ms/step - loss: 0.3680 - accuracy: 0.8554\n",
      "Epoch 164/300\n",
      "8/8 [==============================] - 0s 4ms/step - loss: 0.3670 - accuracy: 0.8595\n",
      "Epoch 165/300\n",
      "8/8 [==============================] - 0s 2ms/step - loss: 0.3723 - accuracy: 0.8512\n",
      "Epoch 166/300\n",
      "8/8 [==============================] - 0s 3ms/step - loss: 0.3989 - accuracy: 0.8099\n"
     ]
    },
    {
     "name": "stdout",
     "output_type": "stream",
     "text": [
      "Epoch 167/300\n",
      "8/8 [==============================] - 0s 4ms/step - loss: 0.3791 - accuracy: 0.8140\n",
      "Epoch 168/300\n",
      "8/8 [==============================] - 0s 3ms/step - loss: 0.3885 - accuracy: 0.8223\n",
      "Epoch 169/300\n",
      "8/8 [==============================] - 0s 3ms/step - loss: 0.3812 - accuracy: 0.8430\n",
      "Epoch 170/300\n",
      "8/8 [==============================] - 0s 4ms/step - loss: 0.3762 - accuracy: 0.8347\n",
      "Epoch 171/300\n",
      "8/8 [==============================] - 0s 3ms/step - loss: 0.3591 - accuracy: 0.8471\n",
      "Epoch 172/300\n",
      "8/8 [==============================] - 0s 2ms/step - loss: 0.3783 - accuracy: 0.8388\n",
      "Epoch 173/300\n",
      "8/8 [==============================] - 0s 3ms/step - loss: 0.3952 - accuracy: 0.8182\n",
      "Epoch 174/300\n",
      "8/8 [==============================] - 0s 2ms/step - loss: 0.3821 - accuracy: 0.8347\n",
      "Epoch 175/300\n",
      "8/8 [==============================] - 0s 2ms/step - loss: 0.3834 - accuracy: 0.8140\n",
      "Epoch 176/300\n",
      "8/8 [==============================] - 0s 4ms/step - loss: 0.4145 - accuracy: 0.8099\n",
      "Epoch 177/300\n",
      "8/8 [==============================] - 0s 3ms/step - loss: 0.4289 - accuracy: 0.8099\n",
      "Epoch 178/300\n",
      "8/8 [==============================] - 0s 3ms/step - loss: 0.3942 - accuracy: 0.8264\n",
      "Epoch 179/300\n",
      "8/8 [==============================] - 0s 3ms/step - loss: 0.3717 - accuracy: 0.8388\n",
      "Epoch 180/300\n",
      "8/8 [==============================] - 0s 3ms/step - loss: 0.3975 - accuracy: 0.8058\n",
      "Epoch 181/300\n",
      "8/8 [==============================] - 0s 3ms/step - loss: 0.4206 - accuracy: 0.8099\n",
      "Epoch 182/300\n",
      "8/8 [==============================] - 0s 3ms/step - loss: 0.3844 - accuracy: 0.8223\n",
      "Epoch 183/300\n",
      "8/8 [==============================] - 0s 2ms/step - loss: 0.3725 - accuracy: 0.8430\n",
      "Epoch 184/300\n",
      "8/8 [==============================] - 0s 4ms/step - loss: 0.3696 - accuracy: 0.8388\n",
      "Epoch 185/300\n",
      "8/8 [==============================] - 0s 4ms/step - loss: 0.3674 - accuracy: 0.8595\n",
      "Epoch 186/300\n",
      "8/8 [==============================] - 0s 3ms/step - loss: 0.3674 - accuracy: 0.8430\n",
      "Epoch 187/300\n",
      "8/8 [==============================] - 0s 2ms/step - loss: 0.3609 - accuracy: 0.8760\n",
      "Epoch 188/300\n",
      "8/8 [==============================] - 0s 1ms/step - loss: 0.3659 - accuracy: 0.8512\n",
      "Epoch 189/300\n",
      "8/8 [==============================] - 0s 3ms/step - loss: 0.3605 - accuracy: 0.8595\n",
      "Epoch 190/300\n",
      "8/8 [==============================] - 0s 3ms/step - loss: 0.3630 - accuracy: 0.8512\n",
      "Epoch 191/300\n",
      "8/8 [==============================] - 0s 4ms/step - loss: 0.3900 - accuracy: 0.8306\n",
      "Epoch 192/300\n",
      "8/8 [==============================] - 0s 4ms/step - loss: 0.3720 - accuracy: 0.8306\n",
      "Epoch 193/300\n",
      "8/8 [==============================] - 0s 4ms/step - loss: 0.3727 - accuracy: 0.8471\n",
      "Epoch 194/300\n",
      "8/8 [==============================] - 0s 5ms/step - loss: 0.3760 - accuracy: 0.8512\n",
      "Epoch 195/300\n",
      "8/8 [==============================] - 0s 4ms/step - loss: 0.3936 - accuracy: 0.8099\n",
      "Epoch 196/300\n",
      "8/8 [==============================] - 0s 7ms/step - loss: 0.4162 - accuracy: 0.7893\n",
      "Epoch 197/300\n",
      "8/8 [==============================] - 0s 5ms/step - loss: 0.4139 - accuracy: 0.8058\n",
      "Epoch 198/300\n",
      "8/8 [==============================] - 0s 3ms/step - loss: 0.3805 - accuracy: 0.8017\n",
      "Epoch 199/300\n",
      "8/8 [==============================] - 0s 2ms/step - loss: 0.3781 - accuracy: 0.8347\n",
      "Epoch 200/300\n",
      "8/8 [==============================] - 0s 3ms/step - loss: 0.3539 - accuracy: 0.8636\n",
      "Epoch 201/300\n",
      "8/8 [==============================] - 0s 3ms/step - loss: 0.3728 - accuracy: 0.8512\n",
      "Epoch 202/300\n",
      "8/8 [==============================] - 0s 3ms/step - loss: 0.3583 - accuracy: 0.8636\n",
      "Epoch 203/300\n",
      "8/8 [==============================] - 0s 3ms/step - loss: 0.3748 - accuracy: 0.8471\n",
      "Epoch 204/300\n",
      "8/8 [==============================] - 0s 4ms/step - loss: 0.3573 - accuracy: 0.8512\n",
      "Epoch 205/300\n",
      "8/8 [==============================] - 0s 3ms/step - loss: 0.3622 - accuracy: 0.8678\n",
      "Epoch 206/300\n",
      "8/8 [==============================] - 0s 3ms/step - loss: 0.3593 - accuracy: 0.8595\n",
      "Epoch 207/300\n",
      "8/8 [==============================] - 0s 4ms/step - loss: 0.3616 - accuracy: 0.8595\n",
      "Epoch 208/300\n",
      "8/8 [==============================] - 0s 2ms/step - loss: 0.3557 - accuracy: 0.8471\n",
      "Epoch 209/300\n",
      "8/8 [==============================] - 0s 4ms/step - loss: 0.3800 - accuracy: 0.8388\n",
      "Epoch 210/300\n",
      "8/8 [==============================] - 0s 3ms/step - loss: 0.3677 - accuracy: 0.8512\n",
      "Epoch 211/300\n",
      "8/8 [==============================] - 0s 2ms/step - loss: 0.3565 - accuracy: 0.8471\n",
      "Epoch 212/300\n",
      "8/8 [==============================] - 0s 3ms/step - loss: 0.4069 - accuracy: 0.8223\n",
      "Epoch 213/300\n",
      "8/8 [==============================] - 0s 5ms/step - loss: 0.3638 - accuracy: 0.8471\n",
      "Epoch 214/300\n",
      "8/8 [==============================] - 0s 4ms/step - loss: 0.3626 - accuracy: 0.8554\n",
      "Epoch 215/300\n",
      "8/8 [==============================] - 0s 5ms/step - loss: 0.3582 - accuracy: 0.8554\n",
      "Epoch 216/300\n",
      "8/8 [==============================] - 0s 4ms/step - loss: 0.3692 - accuracy: 0.8636\n",
      "Epoch 217/300\n",
      "8/8 [==============================] - 0s 2ms/step - loss: 0.3697 - accuracy: 0.8388\n",
      "Epoch 218/300\n",
      "8/8 [==============================] - 0s 3ms/step - loss: 0.3600 - accuracy: 0.8388\n",
      "Epoch 219/300\n",
      "8/8 [==============================] - 0s 4ms/step - loss: 0.3578 - accuracy: 0.8595\n",
      "Epoch 220/300\n",
      "8/8 [==============================] - 0s 4ms/step - loss: 0.3616 - accuracy: 0.8512\n",
      "Epoch 221/300\n",
      "8/8 [==============================] - 0s 7ms/step - loss: 0.3595 - accuracy: 0.8678\n",
      "Epoch 222/300\n",
      "8/8 [==============================] - 0s 3ms/step - loss: 0.3602 - accuracy: 0.8512\n",
      "Epoch 223/300\n",
      "8/8 [==============================] - 0s 5ms/step - loss: 0.3649 - accuracy: 0.8678\n",
      "Epoch 224/300\n",
      "8/8 [==============================] - 0s 4ms/step - loss: 0.3818 - accuracy: 0.8306\n",
      "Epoch 225/300\n",
      "8/8 [==============================] - 0s 6ms/step - loss: 0.3558 - accuracy: 0.8678\n",
      "Epoch 226/300\n",
      "8/8 [==============================] - 0s 4ms/step - loss: 0.3530 - accuracy: 0.8636\n",
      "Epoch 227/300\n",
      "8/8 [==============================] - 0s 5ms/step - loss: 0.3609 - accuracy: 0.8388\n",
      "Epoch 228/300\n",
      "8/8 [==============================] - 0s 4ms/step - loss: 0.3653 - accuracy: 0.8595\n",
      "Epoch 229/300\n",
      "8/8 [==============================] - 0s 5ms/step - loss: 0.3681 - accuracy: 0.8595\n",
      "Epoch 230/300\n",
      "8/8 [==============================] - 0s 3ms/step - loss: 0.3727 - accuracy: 0.8223\n",
      "Epoch 231/300\n",
      "8/8 [==============================] - 0s 4ms/step - loss: 0.3915 - accuracy: 0.8430\n",
      "Epoch 232/300\n",
      "8/8 [==============================] - 0s 4ms/step - loss: 0.3771 - accuracy: 0.8347\n",
      "Epoch 233/300\n",
      "8/8 [==============================] - 0s 5ms/step - loss: 0.3543 - accuracy: 0.8595\n",
      "Epoch 234/300\n",
      "8/8 [==============================] - 0s 5ms/step - loss: 0.3534 - accuracy: 0.8636\n",
      "Epoch 235/300\n",
      "8/8 [==============================] - 0s 4ms/step - loss: 0.3591 - accuracy: 0.8595\n",
      "Epoch 236/300\n",
      "8/8 [==============================] - 0s 4ms/step - loss: 0.3589 - accuracy: 0.8471\n",
      "Epoch 237/300\n",
      "8/8 [==============================] - 0s 4ms/step - loss: 0.3619 - accuracy: 0.8512\n",
      "Epoch 238/300\n",
      "8/8 [==============================] - 0s 5ms/step - loss: 0.3754 - accuracy: 0.8182\n",
      "Epoch 239/300\n",
      "8/8 [==============================] - 0s 5ms/step - loss: 0.3647 - accuracy: 0.8512\n",
      "Epoch 240/300\n",
      "8/8 [==============================] - 0s 4ms/step - loss: 0.3649 - accuracy: 0.8306\n",
      "Epoch 241/300\n",
      "8/8 [==============================] - 0s 4ms/step - loss: 0.3720 - accuracy: 0.8264\n",
      "Epoch 242/300\n",
      "8/8 [==============================] - 0s 3ms/step - loss: 0.3842 - accuracy: 0.8099\n",
      "Epoch 243/300\n",
      "8/8 [==============================] - 0s 2ms/step - loss: 0.3612 - accuracy: 0.8471\n",
      "Epoch 244/300\n",
      "8/8 [==============================] - 0s 4ms/step - loss: 0.3653 - accuracy: 0.8512\n",
      "Epoch 245/300\n",
      "8/8 [==============================] - 0s 2ms/step - loss: 0.3797 - accuracy: 0.8388\n",
      "Epoch 246/300\n",
      "8/8 [==============================] - 0s 3ms/step - loss: 0.3875 - accuracy: 0.7975\n",
      "Epoch 247/300\n",
      "8/8 [==============================] - 0s 4ms/step - loss: 0.3781 - accuracy: 0.8430\n",
      "Epoch 248/300\n",
      "8/8 [==============================] - 0s 4ms/step - loss: 0.3962 - accuracy: 0.8140\n",
      "Epoch 249/300\n"
     ]
    },
    {
     "name": "stdout",
     "output_type": "stream",
     "text": [
      "8/8 [==============================] - 0s 3ms/step - loss: 0.3573 - accuracy: 0.8678\n",
      "Epoch 250/300\n",
      "8/8 [==============================] - 0s 5ms/step - loss: 0.3566 - accuracy: 0.8512\n",
      "Epoch 251/300\n",
      "8/8 [==============================] - 0s 3ms/step - loss: 0.3934 - accuracy: 0.8306\n",
      "Epoch 252/300\n",
      "8/8 [==============================] - 0s 3ms/step - loss: 0.3607 - accuracy: 0.8595\n",
      "Epoch 253/300\n",
      "8/8 [==============================] - 0s 4ms/step - loss: 0.3592 - accuracy: 0.8719\n",
      "Epoch 254/300\n",
      "8/8 [==============================] - 0s 4ms/step - loss: 0.3583 - accuracy: 0.8306\n",
      "Epoch 255/300\n",
      "8/8 [==============================] - 0s 4ms/step - loss: 0.3613 - accuracy: 0.8512\n",
      "Epoch 256/300\n",
      "8/8 [==============================] - 0s 4ms/step - loss: 0.3648 - accuracy: 0.8595\n",
      "Epoch 257/300\n",
      "8/8 [==============================] - 0s 4ms/step - loss: 0.3824 - accuracy: 0.8264\n",
      "Epoch 258/300\n",
      "8/8 [==============================] - 0s 5ms/step - loss: 0.3651 - accuracy: 0.8264\n",
      "Epoch 259/300\n",
      "8/8 [==============================] - 0s 5ms/step - loss: 0.3655 - accuracy: 0.8636\n",
      "Epoch 260/300\n",
      "8/8 [==============================] - 0s 5ms/step - loss: 0.3590 - accuracy: 0.8554\n",
      "Epoch 261/300\n",
      "8/8 [==============================] - 0s 5ms/step - loss: 0.3692 - accuracy: 0.8554\n",
      "Epoch 262/300\n",
      "8/8 [==============================] - 0s 4ms/step - loss: 0.3766 - accuracy: 0.8388\n",
      "Epoch 263/300\n",
      "8/8 [==============================] - 0s 4ms/step - loss: 0.3754 - accuracy: 0.8264\n",
      "Epoch 264/300\n",
      "8/8 [==============================] - 0s 5ms/step - loss: 0.3711 - accuracy: 0.8430\n",
      "Epoch 265/300\n",
      "8/8 [==============================] - 0s 5ms/step - loss: 0.3701 - accuracy: 0.8512\n",
      "Epoch 266/300\n",
      "8/8 [==============================] - 0s 5ms/step - loss: 0.3800 - accuracy: 0.8388\n",
      "Epoch 267/300\n",
      "8/8 [==============================] - 0s 5ms/step - loss: 0.3515 - accuracy: 0.8554\n",
      "Epoch 268/300\n",
      "8/8 [==============================] - 0s 5ms/step - loss: 0.3628 - accuracy: 0.8430\n",
      "Epoch 269/300\n",
      "8/8 [==============================] - 0s 4ms/step - loss: 0.3576 - accuracy: 0.8471\n",
      "Epoch 270/300\n",
      "8/8 [==============================] - 0s 4ms/step - loss: 0.3664 - accuracy: 0.8347\n",
      "Epoch 271/300\n",
      "8/8 [==============================] - 0s 3ms/step - loss: 0.3754 - accuracy: 0.8347\n",
      "Epoch 272/300\n",
      "8/8 [==============================] - 0s 4ms/step - loss: 0.3627 - accuracy: 0.8554\n",
      "Epoch 273/300\n",
      "8/8 [==============================] - 0s 4ms/step - loss: 0.3647 - accuracy: 0.8512\n",
      "Epoch 274/300\n",
      "8/8 [==============================] - 0s 5ms/step - loss: 0.3571 - accuracy: 0.8595\n",
      "Epoch 275/300\n",
      "8/8 [==============================] - 0s 4ms/step - loss: 0.3556 - accuracy: 0.8512\n",
      "Epoch 276/300\n",
      "8/8 [==============================] - 0s 4ms/step - loss: 0.3555 - accuracy: 0.8678\n",
      "Epoch 277/300\n",
      "8/8 [==============================] - 0s 5ms/step - loss: 0.3659 - accuracy: 0.8471\n",
      "Epoch 278/300\n",
      "8/8 [==============================] - 0s 5ms/step - loss: 0.3577 - accuracy: 0.8719\n",
      "Epoch 279/300\n",
      "8/8 [==============================] - 0s 4ms/step - loss: 0.3779 - accuracy: 0.8347\n",
      "Epoch 280/300\n",
      "8/8 [==============================] - 0s 7ms/step - loss: 0.3767 - accuracy: 0.8430\n",
      "Epoch 281/300\n",
      "8/8 [==============================] - 0s 4ms/step - loss: 0.3561 - accuracy: 0.8636\n",
      "Epoch 282/300\n",
      "8/8 [==============================] - 0s 5ms/step - loss: 0.3608 - accuracy: 0.8347\n",
      "Epoch 283/300\n",
      "8/8 [==============================] - 0s 4ms/step - loss: 0.3553 - accuracy: 0.8595\n",
      "Epoch 284/300\n",
      "8/8 [==============================] - 0s 5ms/step - loss: 0.3624 - accuracy: 0.8512\n",
      "Epoch 285/300\n",
      "8/8 [==============================] - 0s 4ms/step - loss: 0.3584 - accuracy: 0.8554\n",
      "Epoch 286/300\n",
      "8/8 [==============================] - 0s 6ms/step - loss: 0.3639 - accuracy: 0.8430\n",
      "Epoch 287/300\n",
      "8/8 [==============================] - 0s 5ms/step - loss: 0.3829 - accuracy: 0.8264\n",
      "Epoch 288/300\n",
      "8/8 [==============================] - 0s 5ms/step - loss: 0.3594 - accuracy: 0.8595\n",
      "Epoch 289/300\n",
      "8/8 [==============================] - 0s 4ms/step - loss: 0.3520 - accuracy: 0.8636\n",
      "Epoch 290/300\n",
      "8/8 [==============================] - 0s 5ms/step - loss: 0.3589 - accuracy: 0.8430\n",
      "Epoch 291/300\n",
      "8/8 [==============================] - 0s 5ms/step - loss: 0.3690 - accuracy: 0.8306\n",
      "Epoch 292/300\n",
      "8/8 [==============================] - 0s 5ms/step - loss: 0.3780 - accuracy: 0.8306\n",
      "Epoch 293/300\n",
      "8/8 [==============================] - 0s 5ms/step - loss: 0.3643 - accuracy: 0.8471\n",
      "Epoch 294/300\n",
      "8/8 [==============================] - 0s 5ms/step - loss: 0.3534 - accuracy: 0.8636\n",
      "Epoch 295/300\n",
      "8/8 [==============================] - 0s 5ms/step - loss: 0.3585 - accuracy: 0.8388\n",
      "Epoch 296/300\n",
      "8/8 [==============================] - 0s 4ms/step - loss: 0.3591 - accuracy: 0.8430\n",
      "Epoch 297/300\n",
      "8/8 [==============================] - 0s 2ms/step - loss: 0.3612 - accuracy: 0.8636\n",
      "Epoch 298/300\n",
      "8/8 [==============================] - 0s 5ms/step - loss: 0.3566 - accuracy: 0.8595\n",
      "Epoch 299/300\n",
      "8/8 [==============================] - 0s 3ms/step - loss: 0.3526 - accuracy: 0.8430\n",
      "Epoch 300/300\n",
      "8/8 [==============================] - 0s 5ms/step - loss: 0.3637 - accuracy: 0.8347\n"
     ]
    },
    {
     "data": {
      "text/plain": [
       "<keras.callbacks.History at 0x7f6a1c0c2af0>"
      ]
     },
     "execution_count": 45,
     "metadata": {},
     "output_type": "execute_result"
    }
   ],
   "source": [
    "S_Net_1.fit(S_train,Y_train,epochs=300)"
   ]
  },
  {
   "cell_type": "code",
   "execution_count": 46,
   "id": "e6bb3b3d",
   "metadata": {},
   "outputs": [
    {
     "name": "stdout",
     "output_type": "stream",
     "text": [
      "2/2 [==============================] - 0s 10ms/step\n"
     ]
    }
   ],
   "source": [
    "Y_pred_nn = S_Net_1.predict(S_test)"
   ]
  },
  {
   "cell_type": "code",
   "execution_count": 47,
   "id": "ef99e59c",
   "metadata": {},
   "outputs": [],
   "source": [
    "rounded = [round(x[0]) for x in Y_pred_nn]\n",
    "\n",
    "Y_pred_nn = rounded"
   ]
  },
  {
   "cell_type": "code",
   "execution_count": 48,
   "id": "eec6a8d0",
   "metadata": {},
   "outputs": [
    {
     "name": "stdout",
     "output_type": "stream",
     "text": [
      "The accuracy score achieved using Neural Network is: 81.97 %\n"
     ]
    }
   ],
   "source": [
    "score_nn = round(accuracy_score(Y_pred_nn,Y_test)*100,2)\n",
    "\n",
    "print(\"The accuracy score achieved using Neural Network is: \"+str(score_nn)+\" %\")"
   ]
  },
  {
   "cell_type": "code",
   "execution_count": 66,
   "id": "309b293c",
   "metadata": {},
   "outputs": [
    {
     "name": "stdout",
     "output_type": "stream",
     "text": [
      "The accuracy score achieved using LR is: 85.25 %\n",
      "The accuracy score achieved using NB is: 85.25 %\n",
      "The accuracy score achieved using SVM is: 81.97 %\n",
      "The accuracy score achieved using KNN is: 67.21 %\n",
      "The accuracy score achieved using DT is: 78.69 %\n",
      "The accuracy score achieved using RF is: 88.52 %\n",
      "The accuracy score achieved using Bg is: 86.89 %\n",
      "The accuracy score achieved using AB Cl is: 90.16 %\n",
      "The accuracy score achieved using GB Cl is: 83.61 %\n",
      "The accuracy score achieved using N Net is: 81.97 %\n"
     ]
    }
   ],
   "source": [
    "scores = [score_lr,score_nb,score_svm,score_knn,score_dt,score_rf,score_bg,score_ab,score_gb,score_nn]\n",
    "algorithms = [\"LR\",\"NB\",\"SVM\",\"KNN\",\"DT\",\"RF\",\"Bg\",\"AB Cl\",\"GB Cl\",\"N Net\"]    \n",
    "\n",
    "for i in range(len(algorithms)):\n",
    "    print(\"The accuracy score achieved using \"+algorithms[i]+\" is: \"+str(scores[i])+\" %\")"
   ]
  },
  {
   "cell_type": "code",
   "execution_count": 67,
   "id": "0e8e78d4",
   "metadata": {},
   "outputs": [
    {
     "data": {
      "text/plain": [
       "<AxesSubplot:xlabel='Algorithms', ylabel='Accuracy score'>"
      ]
     },
     "execution_count": 67,
     "metadata": {},
     "output_type": "execute_result"
    },
    {
     "data": {
      "image/png": "[encoded data removed]",
      "text/plain": [
       "<Figure size 576x360 with 1 Axes>"
      ]
     },
     "metadata": {},
     "output_type": "display_data"
    }
   ],
   "source": [
    "sns.set(rc={'figure.figsize':(8,5)})\n",
    "plt.xlabel(\"Algorithms\")\n",
    "plt.ylabel(\"Accuracy score\")\n",
    "\n",
    "sns.barplot(algorithms,scores)"
   ]
  },
  {
   "cell_type": "code",
   "execution_count": null,
   "id": "0426d757",
   "metadata": {},
   "outputs": [],
   "source": []
  }
 ],
 "metadata": {
  "kernelspec": {
   "display_name": "Python 3 (ipykernel)",
   "language": "python",
   "name": "python3"
  },
  "language_info": {
   "codemirror_mode": {
    "name": "ipython",
    "version": 3
   },
   "file_extension": ".py",
   "mimetype": "text/x-python",
   "name": "python",
   "nbconvert_exporter": "python",
   "pygments_lexer": "ipython3",
   "version": "3.8.5"
  }
 },
 "nbformat": 4,
 "nbformat_minor": 5
}
