{
  "nbformat": 4,
  "nbformat_minor": 0,
  "metadata": {
    "colab": {
      "provenance": []
    },
    "kernelspec": {
      "name": "python3",
      "display_name": "Python 3"
    },
    "language_info": {
      "name": "python"
    }
  },
  "cells": [
    {
      "cell_type": "code",
      "execution_count": 1,
      "metadata": {
        "id": "jiPaIWsSRweL"
      },
      "outputs": [],
      "source": [
        "from tensorflow.keras.datasets import reuters\n",
        "import numpy as np\n",
        "from tensorflow.keras.utils import to_categorical\n",
        "from tensorflow.keras import Sequential\n",
        "from tensorflow.keras.layers import Dense\n",
        "import matplotlib.pyplot as plt"
      ]
    },
    {
      "cell_type": "code",
      "source": [
        "(train_data, train_labels), (test_data, test_labels) = reuters.load_data(num_words = 10000)"
      ],
      "metadata": {
        "id": "8Xo1-Fw0SFzG"
      },
      "execution_count": 2,
      "outputs": []
    },
    {
      "cell_type": "code",
      "source": [
        "train_data.shape"
      ],
      "metadata": {
        "colab": {
          "base_uri": "https://localhost:8080/"
        },
        "id": "ZDRofVgZWXed",
        "outputId": "4f5706a9-401e-4888-a2e9-b8ee4aad8706"
      },
      "execution_count": 3,
      "outputs": [
        {
          "output_type": "execute_result",
          "data": {
            "text/plain": [
              "(8982,)"
            ]
          },
          "metadata": {},
          "execution_count": 3
        }
      ]
    },
    {
      "cell_type": "code",
      "source": [
        "train_data"
      ],
      "metadata": {
        "colab": {
          "base_uri": "https://localhost:8080/"
        },
        "id": "UHZWiPS5Whhw",
        "outputId": "c6f39c35-bef2-43e1-858b-e80a2120c914"
      },
      "execution_count": 4,
      "outputs": [
        {
          "output_type": "execute_result",
          "data": {
            "text/plain": [
              "array([list([1, 2, 2, 8, 43, 10, 447, 5, 25, 207, 270, 5, 3095, 111, 16, 369, 186, 90, 67, 7, 89, 5, 19, 102, 6, 19, 124, 15, 90, 67, 84, 22, 482, 26, 7, 48, 4, 49, 8, 864, 39, 209, 154, 6, 151, 6, 83, 11, 15, 22, 155, 11, 15, 7, 48, 9, 4579, 1005, 504, 6, 258, 6, 272, 11, 15, 22, 134, 44, 11, 15, 16, 8, 197, 1245, 90, 67, 52, 29, 209, 30, 32, 132, 6, 109, 15, 17, 12]),\n",
              "       list([1, 3267, 699, 3434, 2295, 56, 2, 7511, 9, 56, 3906, 1073, 81, 5, 1198, 57, 366, 737, 132, 20, 4093, 7, 2, 49, 2295, 2, 1037, 3267, 699, 3434, 8, 7, 10, 241, 16, 855, 129, 231, 783, 5, 4, 587, 2295, 2, 2, 775, 7, 48, 34, 191, 44, 35, 1795, 505, 17, 12]),\n",
              "       list([1, 53, 12, 284, 15, 14, 272, 26, 53, 959, 32, 818, 15, 14, 272, 26, 39, 684, 70, 11, 14, 12, 3886, 18, 180, 183, 187, 70, 11, 14, 102, 32, 11, 29, 53, 44, 704, 15, 14, 19, 758, 15, 53, 959, 47, 1013, 15, 14, 19, 132, 15, 39, 965, 32, 11, 14, 147, 72, 11, 180, 183, 187, 44, 11, 14, 102, 19, 11, 123, 186, 90, 67, 960, 4, 78, 13, 68, 467, 511, 110, 59, 89, 90, 67, 1390, 55, 2678, 92, 617, 80, 1274, 46, 905, 220, 13, 4, 346, 48, 235, 629, 5, 211, 5, 1118, 7, 2, 81, 5, 187, 11, 15, 9, 1709, 201, 5, 47, 3615, 18, 478, 4514, 5, 1118, 7, 232, 2, 71, 5, 160, 63, 11, 9, 2, 81, 5, 102, 59, 11, 17, 12]),\n",
              "       ...,\n",
              "       list([1, 141, 3890, 387, 81, 8, 16, 1629, 10, 340, 1241, 850, 31, 56, 3890, 691, 9, 1241, 71, 9, 5985, 2, 2, 699, 2, 2, 2, 699, 244, 5945, 4, 49, 8, 4, 656, 850, 33, 2993, 9, 2139, 340, 3371, 1493, 9, 2, 22, 2, 1094, 687, 83, 35, 15, 257, 6, 57, 9190, 7, 4, 5956, 654, 5, 2, 6191, 1371, 4, 49, 8, 16, 369, 646, 6, 1076, 7, 124, 407, 17, 12]),\n",
              "       list([1, 53, 46, 957, 26, 14, 74, 132, 26, 39, 46, 258, 3614, 18, 14, 74, 134, 5131, 18, 88, 2321, 72, 11, 14, 1842, 32, 11, 123, 383, 89, 39, 46, 235, 10, 864, 728, 5, 258, 44, 11, 15, 22, 753, 9, 42, 92, 131, 728, 5, 69, 312, 11, 15, 22, 222, 2, 3237, 383, 48, 39, 74, 235, 10, 864, 276, 5, 61, 32, 11, 15, 21, 4, 211, 5, 126, 1072, 42, 92, 131, 46, 19, 352, 11, 15, 22, 710, 220, 9, 42, 92, 131, 276, 5, 59, 61, 11, 15, 22, 10, 455, 7, 1172, 137, 336, 1325, 6, 1532, 142, 971, 6463, 43, 359, 5, 4, 326, 753, 364, 17, 12]),\n",
              "       list([1, 227, 2406, 91, 2, 125, 2855, 21, 4, 3976, 76, 7, 4, 757, 481, 3976, 790, 5259, 5654, 9, 111, 149, 8, 7, 10, 76, 223, 51, 4, 417, 8, 1047, 91, 6917, 1688, 340, 7, 194, 9411, 6, 1894, 21, 127, 2151, 2394, 1456, 6, 3034, 4, 329, 433, 7, 65, 87, 1127, 10, 8219, 1475, 290, 9, 21, 567, 16, 1926, 24, 4, 76, 209, 30, 4033, 6655, 5654, 8, 4, 60, 8, 4, 966, 308, 40, 2575, 129, 2, 295, 277, 1071, 9, 24, 286, 2114, 234, 222, 9, 4, 906, 3994, 8519, 114, 5758, 1752, 7, 4, 113, 17, 12])],\n",
              "      dtype=object)"
            ]
          },
          "metadata": {},
          "execution_count": 4
        }
      ]
    },
    {
      "cell_type": "code",
      "source": [
        "train_data[3]"
      ],
      "metadata": {
        "colab": {
          "base_uri": "https://localhost:8080/"
        },
        "id": "uT0XtADCWlFt",
        "outputId": "da09485a-12ea-4d9e-c1e7-6c0fe0b2c96f"
      },
      "execution_count": 5,
      "outputs": [
        {
          "output_type": "execute_result",
          "data": {
            "text/plain": [
              "[1,\n",
              " 4,\n",
              " 686,\n",
              " 867,\n",
              " 558,\n",
              " 4,\n",
              " 37,\n",
              " 38,\n",
              " 309,\n",
              " 2276,\n",
              " 465,\n",
              " 893,\n",
              " 3541,\n",
              " 114,\n",
              " 2902,\n",
              " 69,\n",
              " 312,\n",
              " 35,\n",
              " 15,\n",
              " 7,\n",
              " 335,\n",
              " 1679,\n",
              " 21,\n",
              " 25,\n",
              " 3675,\n",
              " 2,\n",
              " 3498,\n",
              " 58,\n",
              " 69,\n",
              " 68,\n",
              " 493,\n",
              " 5,\n",
              " 25,\n",
              " 465,\n",
              " 377,\n",
              " 2430,\n",
              " 4,\n",
              " 293,\n",
              " 1172,\n",
              " 739,\n",
              " 4379,\n",
              " 8,\n",
              " 7,\n",
              " 1510,\n",
              " 1131,\n",
              " 13,\n",
              " 899,\n",
              " 6,\n",
              " 4,\n",
              " 990,\n",
              " 309,\n",
              " 415,\n",
              " 4519,\n",
              " 6920,\n",
              " 645,\n",
              " 3916,\n",
              " 791,\n",
              " 5,\n",
              " 4379,\n",
              " 75,\n",
              " 8,\n",
              " 24,\n",
              " 10,\n",
              " 1311,\n",
              " 4677,\n",
              " 5,\n",
              " 344,\n",
              " 756,\n",
              " 7,\n",
              " 2,\n",
              " 231,\n",
              " 9691,\n",
              " 2603,\n",
              " 1413,\n",
              " 43,\n",
              " 509,\n",
              " 43,\n",
              " 68,\n",
              " 327,\n",
              " 5,\n",
              " 2,\n",
              " 3498,\n",
              " 297,\n",
              " 638,\n",
              " 73,\n",
              " 430,\n",
              " 22,\n",
              " 4,\n",
              " 580,\n",
              " 7,\n",
              " 48,\n",
              " 41,\n",
              " 30,\n",
              " 2,\n",
              " 136,\n",
              " 4,\n",
              " 344,\n",
              " 298,\n",
              " 4,\n",
              " 580,\n",
              " 40,\n",
              " 344,\n",
              " 5078,\n",
              " 2,\n",
              " 291,\n",
              " 1488,\n",
              " 10,\n",
              " 3148,\n",
              " 5,\n",
              " 231,\n",
              " 6250,\n",
              " 1308,\n",
              " 5,\n",
              " 8250,\n",
              " 7043,\n",
              " 21,\n",
              " 2,\n",
              " 1622,\n",
              " 990,\n",
              " 309,\n",
              " 415,\n",
              " 265,\n",
              " 5992,\n",
              " 8945,\n",
              " 1149,\n",
              " 9118,\n",
              " 2,\n",
              " 4,\n",
              " 344,\n",
              " 9691,\n",
              " 756,\n",
              " 3729,\n",
              " 2,\n",
              " 4667,\n",
              " 2,\n",
              " 3249,\n",
              " 28,\n",
              " 10,\n",
              " 2190,\n",
              " 24,\n",
              " 77,\n",
              " 41,\n",
              " 682,\n",
              " 10,\n",
              " 4851,\n",
              " 2048,\n",
              " 7,\n",
              " 4,\n",
              " 5540,\n",
              " 2926,\n",
              " 1598,\n",
              " 22,\n",
              " 370,\n",
              " 5954,\n",
              " 7541,\n",
              " 5,\n",
              " 54,\n",
              " 5232,\n",
              " 1685,\n",
              " 2916,\n",
              " 10,\n",
              " 1571,\n",
              " 946,\n",
              " 60,\n",
              " 51,\n",
              " 3249,\n",
              " 5249,\n",
              " 4,\n",
              " 73,\n",
              " 2135,\n",
              " 669,\n",
              " 4,\n",
              " 580,\n",
              " 64,\n",
              " 10,\n",
              " 4280,\n",
              " 6,\n",
              " 2,\n",
              " 25,\n",
              " 482,\n",
              " 35,\n",
              " 150,\n",
              " 377,\n",
              " 2430,\n",
              " 7,\n",
              " 10,\n",
              " 2,\n",
              " 836,\n",
              " 2,\n",
              " 4730,\n",
              " 6920,\n",
              " 5,\n",
              " 4379,\n",
              " 2,\n",
              " 2,\n",
              " 3541,\n",
              " 8,\n",
              " 4,\n",
              " 344,\n",
              " 291,\n",
              " 2,\n",
              " 298,\n",
              " 4228,\n",
              " 6,\n",
              " 2223,\n",
              " 24,\n",
              " 2,\n",
              " 41,\n",
              " 343,\n",
              " 430,\n",
              " 210,\n",
              " 6,\n",
              " 3498,\n",
              " 297,\n",
              " 64,\n",
              " 10,\n",
              " 2281,\n",
              " 455,\n",
              " 5,\n",
              " 7003,\n",
              " 125,\n",
              " 222,\n",
              " 17,\n",
              " 12]"
            ]
          },
          "metadata": {},
          "execution_count": 5
        }
      ]
    },
    {
      "cell_type": "code",
      "source": [
        "train_labels.shape"
      ],
      "metadata": {
        "colab": {
          "base_uri": "https://localhost:8080/"
        },
        "id": "oOpZOiDrWtGy",
        "outputId": "93e4e3ed-006a-4f0a-9c23-549694799916"
      },
      "execution_count": 6,
      "outputs": [
        {
          "output_type": "execute_result",
          "data": {
            "text/plain": [
              "(8982,)"
            ]
          },
          "metadata": {},
          "execution_count": 6
        }
      ]
    },
    {
      "cell_type": "code",
      "source": [
        "train_labels"
      ],
      "metadata": {
        "colab": {
          "base_uri": "https://localhost:8080/"
        },
        "id": "-tuv9th2Wyfw",
        "outputId": "f751e51c-b77b-4cae-827f-31eec9d1370d"
      },
      "execution_count": 7,
      "outputs": [
        {
          "output_type": "execute_result",
          "data": {
            "text/plain": [
              "array([ 3,  4,  3, ..., 25,  3, 25])"
            ]
          },
          "metadata": {},
          "execution_count": 7
        }
      ]
    },
    {
      "cell_type": "code",
      "source": [
        "train_labels[15]"
      ],
      "metadata": {
        "colab": {
          "base_uri": "https://localhost:8080/"
        },
        "id": "AKUMRO_QW787",
        "outputId": "f06afb38-386f-4b62-ea80-5f57bd41430f"
      },
      "execution_count": 8,
      "outputs": [
        {
          "output_type": "execute_result",
          "data": {
            "text/plain": [
              "8"
            ]
          },
          "metadata": {},
          "execution_count": 8
        }
      ]
    },
    {
      "cell_type": "code",
      "source": [
        "\"\"\"Decoding data back to text\"\"\"\n",
        "word_index = reuters.get_word_index()\n",
        "\n",
        "reverse_word_index = dict(\n",
        "    [(value,key) for (key, value) in word_index.items()])\n",
        "\n",
        "decoded_newswire = \" \".join(\n",
        "    [reverse_word_index.get(i - 3, \"?\") for i in test_data[58]]\n",
        ")"
      ],
      "metadata": {
        "id": "kiBfQCeqXGyT"
      },
      "execution_count": 9,
      "outputs": []
    },
    {
      "cell_type": "code",
      "source": [
        "decoded_newswire"
      ],
      "metadata": {
        "colab": {
          "base_uri": "https://localhost:8080/",
          "height": 54
        },
        "id": "D6ENdcMZYjaB",
        "outputId": "785da7a9-a094-402b-d5b3-7f23e9b454fb"
      },
      "execution_count": 10,
      "outputs": [
        {
          "output_type": "execute_result",
          "data": {
            "text/plain": [
              "'? standard federal bank said it introduced a zero point fixed rate mortgage loan the loan program offers borrowers home mortgage financing with no discount fees charged standard said that fees charged will include an application fee commitment fee and out of ? expenses such as title work survey recording fees and private mortgage insurance reuter 3'"
            ],
            "application/vnd.google.colaboratory.intrinsic+json": {
              "type": "string"
            }
          },
          "metadata": {},
          "execution_count": 10
        }
      ]
    },
    {
      "cell_type": "code",
      "source": [
        "def vectorize_sequences(sequences, dimension = 10000):\n",
        "  results = np.zeros((len(sequences), dimension))\n",
        "\n",
        "  for i, sequence in enumerate(sequences):\n",
        "    for j in sequence:\n",
        "      results[i, j] = 1.\n",
        "  return results"
      ],
      "metadata": {
        "id": "cb_Kw98kYnkC"
      },
      "execution_count": 11,
      "outputs": []
    },
    {
      "cell_type": "code",
      "source": [
        "S_train = vectorize_sequences(train_data)\n",
        "S_test = vectorize_sequences(test_data)"
      ],
      "metadata": {
        "id": "eo-1a4NfZ7hd"
      },
      "execution_count": 12,
      "outputs": []
    },
    {
      "cell_type": "code",
      "source": [
        "S_train[77]"
      ],
      "metadata": {
        "colab": {
          "base_uri": "https://localhost:8080/"
        },
        "id": "BLPfHa3aad6N",
        "outputId": "1fd6d6c1-06f6-46ad-f4f0-7712fd4a6162"
      },
      "execution_count": 13,
      "outputs": [
        {
          "output_type": "execute_result",
          "data": {
            "text/plain": [
              "array([0., 1., 0., ..., 0., 0., 0.])"
            ]
          },
          "metadata": {},
          "execution_count": 13
        }
      ]
    },
    {
      "cell_type": "code",
      "source": [
        "y_train = to_categorical(train_labels)\n",
        "y_test = to_categorical(test_labels)"
      ],
      "metadata": {
        "id": "7yHdDRfmaoqT"
      },
      "execution_count": 14,
      "outputs": []
    },
    {
      "cell_type": "code",
      "source": [
        "y_train[9]"
      ],
      "metadata": {
        "colab": {
          "base_uri": "https://localhost:8080/"
        },
        "id": "F05KFzY6bjJu",
        "outputId": "ac90b070-956e-4596-aede-7ae06409d0c8"
      },
      "execution_count": 15,
      "outputs": [
        {
          "output_type": "execute_result",
          "data": {
            "text/plain": [
              "array([0., 0., 0., 0., 0., 0., 0., 0., 0., 0., 0., 0., 0., 0., 0., 0., 1.,\n",
              "       0., 0., 0., 0., 0., 0., 0., 0., 0., 0., 0., 0., 0., 0., 0., 0., 0.,\n",
              "       0., 0., 0., 0., 0., 0., 0., 0., 0., 0., 0., 0.], dtype=float32)"
            ]
          },
          "metadata": {},
          "execution_count": 15
        }
      ]
    },
    {
      "cell_type": "code",
      "source": [
        "S_Net = Sequential([\n",
        "    Dense(64, activation = \"swish\"),\n",
        "    Dense(64, activation = \"swish\"),\n",
        "    Dense(46, activation = \"softmax\")\n",
        "])"
      ],
      "metadata": {
        "id": "V-r4Rme6bkrF"
      },
      "execution_count": 16,
      "outputs": []
    },
    {
      "cell_type": "code",
      "source": [
        "S_Net.compile(optimizer = \"rmsprop\", \n",
        "              loss = \"categorical_crossentropy\",\n",
        "              metrics = [\"accuracy\"])"
      ],
      "metadata": {
        "id": "bejD2QjDc6t_"
      },
      "execution_count": 17,
      "outputs": []
    },
    {
      "cell_type": "code",
      "source": [
        "S_val = S_train[:1000]\n",
        "partial_S_train = S_train[1000:]\n",
        "y_val = y_train[:1000]\n",
        "partial_y_train = y_train[1000:]"
      ],
      "metadata": {
        "id": "3IHRwy7Qc_Bx"
      },
      "execution_count": 18,
      "outputs": []
    },
    {
      "cell_type": "code",
      "source": [
        "hist = S_Net.fit(partial_S_train, partial_y_train, epochs = 20, batch_size = 512, validation_data = [S_val,y_val])"
      ],
      "metadata": {
        "colab": {
          "base_uri": "https://localhost:8080/"
        },
        "id": "WLTiN8LDe0mQ",
        "outputId": "7a0804de-5d1b-40ae-949e-7d79e1f4cfde"
      },
      "execution_count": 19,
      "outputs": [
        {
          "output_type": "stream",
          "name": "stdout",
          "text": [
            "Epoch 1/20\n",
            "16/16 [==============================] - 3s 132ms/step - loss: 2.8086 - accuracy: 0.5253 - val_loss: 1.9375 - val_accuracy: 0.6050\n",
            "Epoch 2/20\n",
            "16/16 [==============================] - 2s 106ms/step - loss: 1.5939 - accuracy: 0.6779 - val_loss: 1.4237 - val_accuracy: 0.6830\n",
            "Epoch 3/20\n",
            "16/16 [==============================] - 2s 105ms/step - loss: 1.1810 - accuracy: 0.7521 - val_loss: 1.2052 - val_accuracy: 0.7320\n",
            "Epoch 4/20\n",
            "16/16 [==============================] - 2s 111ms/step - loss: 0.9319 - accuracy: 0.8043 - val_loss: 1.0928 - val_accuracy: 0.7720\n",
            "Epoch 5/20\n",
            "16/16 [==============================] - 2s 117ms/step - loss: 0.7443 - accuracy: 0.8441 - val_loss: 1.0183 - val_accuracy: 0.7830\n",
            "Epoch 6/20\n",
            "16/16 [==============================] - 2s 101ms/step - loss: 0.5936 - accuracy: 0.8731 - val_loss: 0.9709 - val_accuracy: 0.7990\n",
            "Epoch 7/20\n",
            "16/16 [==============================] - 2s 105ms/step - loss: 0.4778 - accuracy: 0.8994 - val_loss: 0.9459 - val_accuracy: 0.8100\n",
            "Epoch 8/20\n",
            "16/16 [==============================] - 2s 98ms/step - loss: 0.3904 - accuracy: 0.9172 - val_loss: 0.9286 - val_accuracy: 0.8120\n",
            "Epoch 9/20\n",
            "16/16 [==============================] - 1s 54ms/step - loss: 0.3254 - accuracy: 0.9297 - val_loss: 0.9166 - val_accuracy: 0.8220\n",
            "Epoch 10/20\n",
            "16/16 [==============================] - 1s 52ms/step - loss: 0.2780 - accuracy: 0.9350 - val_loss: 0.9550 - val_accuracy: 0.8140\n",
            "Epoch 11/20\n",
            "16/16 [==============================] - 1s 56ms/step - loss: 0.2380 - accuracy: 0.9432 - val_loss: 0.9549 - val_accuracy: 0.8190\n",
            "Epoch 12/20\n",
            "16/16 [==============================] - 1s 54ms/step - loss: 0.2094 - accuracy: 0.9479 - val_loss: 0.9527 - val_accuracy: 0.8180\n",
            "Epoch 13/20\n",
            "16/16 [==============================] - 1s 54ms/step - loss: 0.1894 - accuracy: 0.9511 - val_loss: 1.0853 - val_accuracy: 0.7980\n",
            "Epoch 14/20\n",
            "16/16 [==============================] - 1s 53ms/step - loss: 0.1763 - accuracy: 0.9536 - val_loss: 0.9708 - val_accuracy: 0.8150\n",
            "Epoch 15/20\n",
            "16/16 [==============================] - 1s 54ms/step - loss: 0.1593 - accuracy: 0.9550 - val_loss: 1.0168 - val_accuracy: 0.8110\n",
            "Epoch 16/20\n",
            "16/16 [==============================] - 1s 54ms/step - loss: 0.1482 - accuracy: 0.9558 - val_loss: 1.0340 - val_accuracy: 0.8080\n",
            "Epoch 17/20\n",
            "16/16 [==============================] - 1s 54ms/step - loss: 0.1409 - accuracy: 0.9568 - val_loss: 1.0349 - val_accuracy: 0.8040\n",
            "Epoch 18/20\n",
            "16/16 [==============================] - 1s 53ms/step - loss: 0.1278 - accuracy: 0.9575 - val_loss: 1.0434 - val_accuracy: 0.8120\n",
            "Epoch 19/20\n",
            "16/16 [==============================] - 1s 55ms/step - loss: 0.1291 - accuracy: 0.9565 - val_loss: 1.0581 - val_accuracy: 0.8130\n",
            "Epoch 20/20\n",
            "16/16 [==============================] - 1s 54ms/step - loss: 0.1268 - accuracy: 0.9565 - val_loss: 1.0883 - val_accuracy: 0.8020\n"
          ]
        }
      ]
    },
    {
      "cell_type": "code",
      "source": [
        "loss = hist.history[\"loss\"]\n",
        "val_loss = hist.history[\"val_loss\"]\n",
        "epochs = range(1,len(loss) + 1)\n",
        "plt.plot(epochs, loss, \"r\", label = \"Training_loss\")\n",
        "plt.plot(epochs, val_loss, \"g\", label = \"Validation_loss\")\n",
        "plt.title(\"Training and Validation loss\")\n",
        "plt.xlabel(\"Epochs\")\n",
        "plt.ylabel(\"Loss\")\n",
        "plt.legend()\n",
        "plt.show()"
      ],
      "metadata": {
        "colab": {
          "base_uri": "https://localhost:8080/",
          "height": 294
        },
        "id": "xp2J_g0JfP2J",
        "outputId": "ee97f6cf-3587-4724-fead-54a956591b0c"
      },
      "execution_count": 20,
      "outputs": [
        {
          "output_type": "display_data",
          "data": {
            "text/plain": [
              "<Figure size 432x288 with 1 Axes>"
            ],
            "image/png": "[encoded data removed]"
          },
          "metadata": {
            "needs_background": "light"
          }
        }
      ]
    },
    {
      "cell_type": "code",
      "source": [
        "acc = hist.history[\"accuracy\"]\n",
        "val_acc = hist.history[\"val_accuracy\"]\n",
        "epochs = range(1,len(acc) + 1)\n",
        "plt.plot(epochs, acc, \"y\", label = \"Training_accuracy\")\n",
        "plt.plot(epochs, val_acc, \"b\", label = \"Validation_accuracy\")\n",
        "plt.title(\"Training and Validation accuracy\")\n",
        "plt.xlabel(\"Epochs\")\n",
        "plt.ylabel(\"Accuracy\")\n",
        "plt.legend()\n",
        "plt.show()"
      ],
      "metadata": {
        "colab": {
          "base_uri": "https://localhost:8080/",
          "height": 294
        },
        "id": "BxntiRTIhRwB",
        "outputId": "5935df6c-21e9-4994-f441-ee763450524d"
      },
      "execution_count": 21,
      "outputs": [
        {
          "output_type": "display_data",
          "data": {
            "text/plain": [
              "<Figure size 432x288 with 1 Axes>"
            ],
            "image/png": "[encoded data removed]"
          },
          "metadata": {
            "needs_background": "light"
          }
        }
      ]
    },
    {
      "cell_type": "code",
      "source": [
        "S_Net.evaluate(S_test,y_test)"
      ],
      "metadata": {
        "colab": {
          "base_uri": "https://localhost:8080/"
        },
        "id": "23V8DZmViZdF",
        "outputId": "f2dcc1a9-4961-4b6b-9eba-c9922e965a4d"
      },
      "execution_count": 22,
      "outputs": [
        {
          "output_type": "stream",
          "name": "stdout",
          "text": [
            "71/71 [==============================] - 0s 4ms/step - loss: 1.2646 - accuracy: 0.7863\n"
          ]
        },
        {
          "output_type": "execute_result",
          "data": {
            "text/plain": [
              "[1.2645761966705322, 0.7862867116928101]"
            ]
          },
          "metadata": {},
          "execution_count": 22
        }
      ]
    }
  ]
}